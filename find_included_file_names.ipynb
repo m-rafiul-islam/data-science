{
 "cells": [
  {
   "cell_type": "code",
   "execution_count": 1,
   "metadata": {},
   "outputs": [
    {
     "name": "stdout",
     "output_type": "stream",
     "text": [
      "2021_Cover Letter Oct 9.pdf           figg_ex3_2-eps-converted-to.pdf\r\n",
      "2022_Final_Gompertz_April.aux         figg_ex3_2.eps\r\n",
      "2022_Final_Gompertz_April.log         figg_ex3_22-eps-converted-to.pdf\r\n",
      "2022_Final_Gompertz_April.out         figg_ex3_22.eps\r\n",
      "2022_Final_Gompertz_April.pdf         figg_ex3_4-eps-converted-to.pdf\r\n",
      "2022_Final_Gompertz_April.synctex.gz  figg_ex3_4.eps\r\n",
      "2022_Final_Gompertz_April.tex         figg_ex3_5-eps-converted-to.pdf\r\n",
      "3D_31-eps-converted-to.pdf            figg_ex3_5.eps\r\n",
      "3D_31.eps                             figg_ex4_1-eps-converted-to.pdf\r\n",
      "3D_32-eps-converted-to.pdf            figg_ex4_1.eps\r\n",
      "3D_32.eps                             figg_ex4_1.png\r\n",
      "3D_33-eps-converted-to.pdf            figg_ex4_12.png\r\n",
      "3D_33.eps                             figg_ex4_2-eps-converted-to.pdf\r\n",
      "ex1_3D_1-eps-converted-to.pdf         figg_ex4_2.eps\r\n",
      "ex1_3D_1.eps                          figg_ex5_1-eps-converted-to.pdf\r\n",
      "ex1_3D_2-eps-converted-to.pdf         figg_ex5_1.eps\r\n",
      "ex1_3D_2.eps                          figg_ex5_1.png\r\n",
      "ex1_3D_3-eps-converted-to.pdf         figg_ex5_2-eps-converted-to.pdf\r\n",
      "ex1_3D_3.eps                          figg_ex5_2.eps\r\n",
      "figg_ex1_1-eps-converted-to.pdf       figg_ex6_1-eps-converted-to.pdf\r\n",
      "figg_ex1_1.eps                        figg_ex6_1.eps\r\n",
      "figg_ex1_1.png                        figg_ex6_2-eps-converted-to.pdf\r\n",
      "figg_ex1_2-eps-converted-to.pdf       figg_ex6_2.eps\r\n",
      "figg_ex1_2.eps                        figg_ex6_3-eps-converted-to.pdf\r\n",
      "figg_ex1_2.png                        figg_ex6_3.eps\r\n",
      "figg_ex1_3-eps-converted-to.pdf       figg_ex7_1-eps-converted-to.pdf\r\n",
      "figg_ex1_3.eps                        figg_ex7_1.eps\r\n",
      "figg_ex1_3.png                        figg_ex7_2-eps-converted-to.pdf\r\n",
      "figg_ex2_1.png                        figg_ex7_2.eps\r\n",
      "figg_ex2_2-eps-converted-to.pdf       figg_ex7_3-eps-converted-to.pdf\r\n",
      "figg_ex2_2.eps                        figg_ex7_3.eps\r\n",
      "figg_ex2_2.png                        figg_ex7_4-eps-converted-to.pdf\r\n",
      "figg_ex3_1-eps-converted-to.pdf       figg_ex7_4.eps\r\n",
      "figg_ex3_1.eps                        figg_ex7_5-eps-converted-to.pdf\r\n",
      "figg_ex3_12-eps-converted-to.pdf      figg_ex7_5.eps\r\n",
      "figg_ex3_12.eps                       \u001b[34mfile_used\u001b[m\u001b[m/\r\n",
      "figg_ex3_13-eps-converted-to.pdf      find_included_file_names.ipynb\r\n",
      "figg_ex3_13.eps\r\n"
     ]
    }
   ],
   "source": [
    "ls"
   ]
  },
  {
   "cell_type": "code",
   "execution_count": 2,
   "metadata": {},
   "outputs": [],
   "source": [
    "with open('2022_Final_Gompertz_April.tex', 'r') as f:\n",
    "    contents = f.read()"
   ]
  },
  {
   "cell_type": "code",
   "execution_count": 3,
   "metadata": {},
   "outputs": [
    {
     "data": {
      "text/plain": [
       "['e{eps',\n",
       " 't,eps',\n",
       " 't,eps',\n",
       " '1.eps',\n",
       " '2.eps',\n",
       " '3.eps',\n",
       " '1.eps',\n",
       " '2.eps',\n",
       " '3.eps',\n",
       " '2.eps',\n",
       " '1.eps',\n",
       " '2.eps',\n",
       " '3.eps',\n",
       " '1.eps',\n",
       " '2.eps',\n",
       " '3.eps',\n",
       " '4.eps',\n",
       " '5.eps',\n",
       " '1.eps',\n",
       " '2.eps',\n",
       " '1.eps',\n",
       " '2.eps',\n",
       " '3.eps',\n",
       " '1.eps',\n",
       " '2.eps',\n",
       " '1.eps',\n",
       " '2.eps',\n",
       " '3.eps',\n",
       " '4.eps',\n",
       " '5.eps']"
      ]
     },
     "execution_count": 3,
     "metadata": {},
     "output_type": "execute_result"
    }
   ],
   "source": [
    "\n",
    "import re\n",
    "pattern = re.compile(r'\\w.eps') \n",
    "matches = pattern.findall(contents)\n",
    "matches"
   ]
  },
  {
   "cell_type": "code",
   "execution_count": 7,
   "metadata": {},
   "outputs": [
    {
     "data": {
      "text/plain": [
       "['kamrujjaman@du.ac.bd',\n",
       " '_akter@cc.nara-wu.ac.jp',\n",
       " 'kkeya@ttu.edu',\n",
       " 'mhabiswas@yahoo.com',\n",
       " 'rafiul@iastate.edu',\n",
       " '_ariful@math.buet.ac.bd']"
      ]
     },
     "execution_count": 7,
     "metadata": {},
     "output_type": "execute_result"
    }
   ],
   "source": [
    "pattern = re.compile(r'[a-zA-Z0-9_.+-]+@[a-zA-Z0-9-]+\\.[a-zA-Z0-9-.]+')                      \n",
    "matches = pattern.findall(contents)\n",
    "matches"
   ]
  },
  {
   "cell_type": "code",
   "execution_count": 18,
   "metadata": {},
   "outputs": [
    {
     "data": {
      "text/plain": [
       "['kern-.2em',\n",
       " '1.5-spacing',\n",
       " 'du.ac.bd',\n",
       " 'cc.nara-wu.ac.jp',\n",
       " 'ttu.edu',\n",
       " 'yahoo.com',\n",
       " 'iastate.edu',\n",
       " 'math.buet.ac.bd',\n",
       " 'orcid.org',\n",
       " '-0.5cm',\n",
       " '6.35in',\n",
       " '0.02in',\n",
       " '6.35in',\n",
       " '0.02in',\n",
       " 'Species...',\n",
       " '1.0',\n",
       " '0.0',\n",
       " '2.5',\n",
       " '1.2',\n",
       " '1.2',\n",
       " '1.2',\n",
       " '0.3',\n",
       " 'figg_ex1_1.eps',\n",
       " '0.3',\n",
       " 'figg_ex1_2.eps',\n",
       " '0.3',\n",
       " 'figg_ex1_3.eps',\n",
       " '0.0',\n",
       " '2.5',\n",
       " '0.1',\n",
       " '1.1',\n",
       " '2.0',\n",
       " '1.2',\n",
       " '1.2',\n",
       " '1.2',\n",
       " '0.3',\n",
       " 'ex1_3D_1.eps',\n",
       " '0.3',\n",
       " 'ex1_3D_2.eps',\n",
       " '0.3',\n",
       " 'ex1_3D_3.eps',\n",
       " '0.0',\n",
       " '2.5',\n",
       " '1.0',\n",
       " '2.0',\n",
       " '1.2',\n",
       " '1.2',\n",
       " '1.2',\n",
       " '1.0',\n",
       " '0.0',\n",
       " '2.5',\n",
       " '2.0',\n",
       " '1.2',\n",
       " '1.2',\n",
       " '1.2',\n",
       " '0.4',\n",
       " 'figg_ex2_1.png',\n",
       " '0.4',\n",
       " 'figg_ex2_2.eps',\n",
       " '0.0',\n",
       " '2.5',\n",
       " '1.0',\n",
       " '2.0',\n",
       " '1.2',\n",
       " '1.2',\n",
       " '1.2',\n",
       " '1.2',\n",
       " '0.1',\n",
       " '1.1',\n",
       " '2.0',\n",
       " '2.5',\n",
       " '1.2',\n",
       " '1.1',\n",
       " '0.3',\n",
       " 'figg_ex3_1.eps',\n",
       " '0.3',\n",
       " 'figg_ex3_12.eps',\n",
       " '0.3',\n",
       " 'figg_ex3_13.eps',\n",
       " '2.5',\n",
       " '1.1',\n",
       " '1.2',\n",
       " '0.5',\n",
       " '1.5',\n",
       " '2.0',\n",
       " '0.5',\n",
       " '1.5',\n",
       " '2.5',\n",
       " '0.3',\n",
       " '3D_31.eps',\n",
       " '0.3',\n",
       " '3D_32.eps',\n",
       " '0.3',\n",
       " '3D_33.eps',\n",
       " '2.5',\n",
       " '1.0',\n",
       " '1.2',\n",
       " '2.5',\n",
       " '1.5',\n",
       " '0.5',\n",
       " '0.33',\n",
       " 'figg_ex3_4.eps',\n",
       " '0.33',\n",
       " 'figg_ex3_5.eps',\n",
       " '2.5',\n",
       " '1.1',\n",
       " '1.2',\n",
       " '0.5',\n",
       " '0.1',\n",
       " '1.1',\n",
       " '2.0',\n",
       " '0.5',\n",
       " '1.2',\n",
       " '1.5',\n",
       " '1.2',\n",
       " '0.33',\n",
       " 'figg_ex4_1.eps',\n",
       " '0.33',\n",
       " 'figg_ex4_2.eps',\n",
       " '0.0',\n",
       " '2.0',\n",
       " '1.2',\n",
       " '0.2',\n",
       " '0.75',\n",
       " '1.2',\n",
       " '1.5',\n",
       " '0.75',\n",
       " '0.5',\n",
       " '1.1',\n",
       " '1.5',\n",
       " '0.0',\n",
       " '1.3',\n",
       " '2.1',\n",
       " '1.1',\n",
       " '1.3',\n",
       " '1.5',\n",
       " '0.3',\n",
       " '1.1',\n",
       " '1.7',\n",
       " '1.2',\n",
       " '0.33',\n",
       " 'figg_ex5_1.eps',\n",
       " '0.33',\n",
       " 'figg_ex5_2.eps',\n",
       " '0.0',\n",
       " '2.1',\n",
       " '1.3',\n",
       " '1.1',\n",
       " '1.1',\n",
       " '1.3',\n",
       " '1.5',\n",
       " '1.2',\n",
       " '0.3',\n",
       " '1.1',\n",
       " '1.7',\n",
       " '1.0',\n",
       " '2.5',\n",
       " '0.5',\n",
       " '1.5',\n",
       " '0.75',\n",
       " '0.3',\n",
       " 'figg_ex6_3.eps',\n",
       " '0.3',\n",
       " 'figg_ex6_1.eps',\n",
       " '0.3',\n",
       " 'figg_ex6_2.eps',\n",
       " '1.0',\n",
       " '2.5',\n",
       " '0.5',\n",
       " '1.5',\n",
       " '0.75',\n",
       " '1.0',\n",
       " '2.5',\n",
       " '1.2',\n",
       " '0.75',\n",
       " '1.2',\n",
       " '1.5',\n",
       " '0.3',\n",
       " 'figg_ex7_1.eps',\n",
       " '0.3',\n",
       " 'figg_ex7_2.eps',\n",
       " '0.3',\n",
       " 'figg_ex7_3.eps',\n",
       " '1.0',\n",
       " '2.5',\n",
       " '1.0',\n",
       " '1.2',\n",
       " '0.75',\n",
       " '1.2',\n",
       " '1.5',\n",
       " '0.1',\n",
       " '1.1',\n",
       " '1.0',\n",
       " '0.5',\n",
       " '1.5',\n",
       " '2.5',\n",
       " '2.5',\n",
       " '1.2',\n",
       " '0.75',\n",
       " '1.0',\n",
       " '0.33',\n",
       " 'figg_ex7_4.eps',\n",
       " '0.33',\n",
       " 'figg_ex7_5.eps',\n",
       " '0.5',\n",
       " '1.5',\n",
       " '2.5',\n",
       " '2.5',\n",
       " '1.0',\n",
       " '1.2',\n",
       " '0.75',\n",
       " 'M.K.',\n",
       " 'S.I.A.',\n",
       " 'M.H.A.B.',\n",
       " 'K.M.A.K.',\n",
       " 'K.N.K.',\n",
       " 'S.I.A.',\n",
       " 'M.K.',\n",
       " 'M.R.I',\n",
       " 'M.H.A.B.',\n",
       " 'M.K',\n",
       " 'S.I.A.',\n",
       " 'K.N.K.',\n",
       " 'K.M.A.K.',\n",
       " 'K.N.K.',\n",
       " 'M.R.I',\n",
       " 'S.I.A.',\n",
       " 'S.I.A.',\n",
       " 'M.K.',\n",
       " 'K.M.A.K.',\n",
       " 'M.H.A.B',\n",
       " 'M.R.I.',\n",
       " 'M.K.',\n",
       " 'Vol.191',\n",
       " 'no.1',\n",
       " 'dx.doi.org',\n",
       " '10.1016',\n",
       " 'j.na.2009.04.025',\n",
       " 'no.2']"
      ]
     },
     "execution_count": 18,
     "metadata": {},
     "output_type": "execute_result"
    }
   ],
   "source": [
    "pattern = re.compile(r'[a-zA-Z0-9_.+-]+\\.[a-zA-Z0-9-.]+')                      \n",
    "matches = pattern.findall(contents)\n",
    "matches"
   ]
  },
  {
   "cell_type": "code",
   "execution_count": 19,
   "metadata": {},
   "outputs": [],
   "source": [
    "import os"
   ]
  },
  {
   "cell_type": "code",
   "execution_count": 21,
   "metadata": {},
   "outputs": [
    {
     "data": {
      "text/plain": [
       "['figg_ex1_1.eps',\n",
       " 'figg_ex1_2.eps',\n",
       " 'figg_ex1_3.eps',\n",
       " 'ex1_3D_1.eps',\n",
       " 'ex1_3D_2.eps',\n",
       " 'ex1_3D_3.eps',\n",
       " 'figg_ex2_2.eps',\n",
       " 'figg_ex3_1.eps',\n",
       " 'figg_ex3_12.eps',\n",
       " 'figg_ex3_13.eps',\n",
       " '3D_31.eps',\n",
       " '3D_32.eps',\n",
       " '3D_33.eps',\n",
       " 'figg_ex3_4.eps',\n",
       " 'figg_ex3_5.eps',\n",
       " 'figg_ex4_1.eps',\n",
       " 'figg_ex4_2.eps',\n",
       " 'figg_ex5_1.eps',\n",
       " 'figg_ex5_2.eps',\n",
       " 'figg_ex6_3.eps',\n",
       " 'figg_ex6_1.eps',\n",
       " 'figg_ex6_2.eps',\n",
       " 'figg_ex7_1.eps',\n",
       " 'figg_ex7_2.eps',\n",
       " 'figg_ex7_3.eps',\n",
       " 'figg_ex7_4.eps',\n",
       " 'figg_ex7_5.eps']"
      ]
     },
     "execution_count": 21,
     "metadata": {},
     "output_type": "execute_result"
    }
   ],
   "source": [
    "# pattern\n",
    "pattern = re.compile(r'[a-zA-Z0-9_.+-]+\\.eps')                      \n",
    "matches = pattern.findall(contents)\n",
    "matches\n",
    "# mkdir file_used\n",
    "# for match in matches: \n",
    "#     os.cp match file_used/ \n",
    "    \n"
   ]
  },
  {
   "cell_type": "code",
   "execution_count": 7,
   "metadata": {},
   "outputs": [
    {
     "data": {
      "text/plain": [
       "'\\\\documentclass[11pt]{article}\\n\\\\usepackage{graphicx,amscd,amsfonts,amsmath,amsthm,amssymb,latexsym,amsfonts,color}\\n%\\\\usepackage{epsfig,float,epstopdf,array,bm}\\n\\\\usepackage[bookmarksnumbered, colorlinks,plainpages]{hyperref}\\n\\\\usepackage{amsmath,amssymb,graphicx,float,epsf}\\n%\\\\def\\\\RR{\\\\hbox{I\\\\kern-.2em\\\\hbox{R}}}\\n%\\\\newcommand{\\\\qed}{\\\\hbox to 0pt{}\\\\hfill$\\\\rlap{$\\\\sqcap$}\\\\sqcup$ \\\\vspace{3mm}}\\n%\\\\renewcommand{\\\\theequation}{\\\\thesection.\\\\arabic{equation}}\\n\\\\numberwithin{equation}{section}\\n\\\\restylefloat{figure}\\n%\\\\usepackage{lmodern} %Type1-font for non-english texts and characters\\n\\\\usepackage{graphicx} %%For loading graphic files\\n%\\\\usepackage{subfig} %%Subfigures inside a figure\\n%\\\\usepackage{tikz} %%Generate vector graphics from within LaTeX\\n%%======Math Packages=====================================================\\n%\\\\usepackage{amsmath}\\n%\\\\usepackage{amsthm}\\n%\\\\usepackage{amsfonts}\\n%\\\\usepackage[pagewise]{lineno}\\\\linenumbers\\n\\\\usepackage{enumerate}\\n\\\\usepackage{enumitem}\\n\\\\newtheorem{Def}{Definition}\\n\\\\newtheorem{Lemma}{Lemma}\\n\\\\newtheorem{Th}{Theorem}\\n\\\\newtheorem{Cor}{Corollary}\\n\\\\newtheorem{Prop}{Proposition}\\n\\\\newtheorem{Rem}{Remark}\\n%\\\\newtheorem{Ex}{Example}\\n\\\\newtheorem{Ex}{Case}\\n%\\\\newtheorem{Conj}{Example}\\n%%====Line Spacing=====================================================\\n%\\\\usepackage{setspace}\\n%\\\\singlespacing        %% 1-spacing (default)\\n%\\\\onehalfspacing       %% 1.5-spacing\\n%\\\\doublespacing        %% 2-spacing\\n\\\\usepackage{a4wide} %%Smaller margins = more text per page.\\n\\\\usepackage{authblk} % for multiple authors affiliation\\n%\\\\usepackage{fancyhdr} %%Fancy headings\\n%\\\\usepackage{longtable} %%For tables, that exceed one page\\n%\\\\usepackage{cases}\\n\\n\\\\begin{document}\\n\\t% Don\\'t want date printed\\n\\t\\\\date{}\\n\\n%\\\\title{Periodic solutions and steady state of a dispersal Gompertz dynamics and its optimal harvesting policy}\\n%\\\\title{Spatio-temporal Gompertz Dynamics for Single Species Resource Management with Optimal Harvesting Policy}\\n\\\\title{Gompertz dynamics for a single species resource management with optimal harvesting policy}\\n\\n\\\\author[1]{\\\\small Md. Kamrujjaman \\\\thanks{Corresponding author: M. Kamrujjaman, email: kamrujjaman@du.ac.bd}}} \\n\\\\author[2]{\\\\small Sayeda Irin Akter\\\\thanks{E-mail: uas\\\\_akter@cc.nara-wu.ac.jp}}\\n\\\\author[3]{\\\\small Kamrun Nahar Keya\\\\thanks{E-mail: kkeya@ttu.edu}} \\n\\\\author[4]{\\\\small Md. Haider Ali Biswas\\\\thanks{E-mail: mhabiswas@yahoo.com}} \\n\\\\author[5]{\\\\small Md Rafiul Islam\\\\thanks{Corresponding author: M. R. Islam, email: rafiul@iastate.edu}} \\n\\\\author[6]{\\\\small K. M. Ariful Kabir\\\\thanks{E-mail: km\\\\_ariful@math.buet.ac.bd }} \\n\\n\\\\affil[1]{\\\\footnotesize Department of Mathematics, University of Dhaka, Dhaka 1000, Bangladesh} %Nara 630-8506\\n\\\\affil[2]{\\\\footnotesize Department of Environmental Science, Nara Women\\'s University,\\n\\tKita-Uoya Nishimachi, Nara, Japan}\\n%\\\\affil[2]{\\\\footnotesize Department of Mathematics and Statistics, University of Calgary, Calgary, AB, Canada}\\n\\\\affil[3]{\\\\footnotesize Department of Mathematics and Statistics, Texas Tech University, Lubbock, Texas, USA}\\n\\\\affil[4]{\\\\footnotesize Mathematics Discipline, Science Engineering and Technology School, Khulna University, Khulna 9208, Bangladesh}\\n\\\\affil[5]{\\\\footnotesize Department of Mathematics, Iowa State University, Ames, Iowa 50011, USA}\\n\\\\affil[6]{\\\\footnotesize Department of Mathematics, Bangladesh University of Engineering and Technology, Dhaka, Bangladesh}\\n\\n%\\\\\\\\ ORCID ID: \\\\url{https://orcid.org/0000-0002-4892-745X \\n\\\\maketitle\\n\\\\vspace{-0.5cm}\\n\\\\noindent\\\\rule{6.35in}{0.02in}\\\\\\\\\\n{\\\\bf Abstract.} \\nGompertz dynamics offers a significant use for the growth of invasive species, cancer modeling, optimal harvesting policy, sustainable yield, and optimal population level due to its pattern formation of low-density cases. This paper studies a generalized non-homogeneous diffusive single-species Gompertz model incorporated with zero Neumann boundary conditions where all the coefficients are smooth periodic functions. Further, our analytical explanation approach of the global stability of a time-periodic solution and optimal harvesting policy for the Gompertz growth law could substantially generalize the results for many small organisms including plants and wild populations. Our proposed model successfully investigates the ordinary differential equation dynamics in the absence of diffusion. Also, the spatio-temporal equation describes the population’s evolutionary processes more precisely than ordinary differential equations. Finally, we can observe several potential applications as confining the optimal way to real scenarios and related fields where the optimal harvesting is used.\\n\\\\\\\\[-3mm]\\n\\n\\\\noindent{\\\\it \\\\footnotesize Keywords}: {\\\\small Persistence; optimal harvesting; global stability; periodic solution; sustainable yield. }\\\\\\\\\\n\\\\noindent\\n\\\\noindent{\\\\it \\\\footnotesize AMS Subject Classification}: 92D25, 35K57 (primary), 35K50, 35K61, 37N25. \\\\\\\\\\n\\\\noindent\\\\rule{6.35in}{0.02in}\\n\\n%\\\\pagestyle{myheadings}\\\\markboth{Sayeda Irin Akter et. al.}{Spatio-temporal Gompertz Dynamics for Single Species...}\\n%\\\\thispagestyle{empty}\\n\\n\\n\\n%===========New section====Introduction====================================================\\n\\\\section{Introduction}\\\\label{sec_01}\\nA classical reaction diffusion equation consisting of a reaction term and a diffusion term arises in many areas of science and engineering such as in chemistry \\\\cite{AMT}, in ecological invasions \\\\cite{EEHM}, in spread of epidemics \\\\cite{JDM}, in tumor growth \\\\cite{CMAJ} and in many other areas \\\\cite{JSM, JSJ, CC}. % \\\\cite{JSM, JSJ, PCF, ASM, CC}. \\nIf we look into the history, the area of population dynamics is found as the first application of mathematics to biology, such as Malthus predicted the unbounded exponential growth and Verhulst proposed the logistic equation. The first models were either differential or first-order difference equations. However, in many cases, we can not neglect either spatial distribution or dependence on the previous history of the population; thus, the adequate models would be ordinary/partial differential \\\\cite{XQZ}, or fractional  differential equations \\\\cite{YK}.\\n\\nIn ecology, a classical reaction-diffusion equation plays a vital role in the study of different types of dynamics of species \\\\cite{CC}. In theoretical ecology, the determination of distribution (density) of species (or organisms) and the structure of communities is one of the main goals to survive where species (or organisms) interact with each other in a given environment \\\\cite{RSC_2}. To maintain biodiversity in the ecosystems on conservation, the role of spatial effects has become essential in recent decades \\\\cite{MOMS, SFGS, LKB, EBL}. %\\\\cite{MOMS, SFGS, BML, LKB, KKJ, EBL, YJX}.\\nBoth autonomous and non-autonomous population models subject to either impulsive or continuous harvesting were studied in \\\\cite{EBRM}. In \\\\cite{SMH},  Henson and Cushing studied the effect of periodic habitat fluctuations on a nonlinear insect population model. Harvesting in a seasonal environment is studied in \\\\cite{CX}. A general harvesting model with seasonal carrying capacity is presented here, and a theoretical foundation is developed. \\n\\nAs for spatially distributed populations, if at each point the growth of the population size $u$ was described by a specific law, such as logistic, Gompertz, or some other then, the simplest model follows that $\\\\frac{\\\\displaystyle du}{\\\\displaystyle d t}=g\\\\left(u( t)\\\\right)$. Here the growth function can be modified to $f(x,u)$ to involve the space variable, and the diffusion term is added to the right-hand side to describe population movements.\\n\\nThe scientist Benjamin Gompertz studied general growth equations, and those were successfully applied to ecological applications such as actual tumor data, which was published in $1825$ that has become a foundational treatise establishing the concept variously called \"Gompertz\\'s Law\" or \"Gompertzian growth\" \\\\cite{GGG}.  He fitted it to the relationship between increasing death rate and age. Gompertz discussed the two distinct behaviors of the human life table. In some cases, such as countries or range of ages, the function of age decays exponentially. Again as in real-life tables, when age is discrete, it decreases as a geometric series. By the mid$-20^{\\\\text{th}}$ century, in models of population growth, Gompertz\\'s insight was applied that included mechanistic detail \\\\cite{WCP, WSB}. It is frequently used to describe bird growth \\\\cite{SJRR}, fish growth \\\\cite{RWB} and growth of other animals and also used in plant growth \\\\cite{PMVP}. To describe the number of bacteria in bacterial growth \\\\cite{ZJRV, SGLJ} and the volume of cancer cells \\\\cite{LAK} it is also used.\\n\\nIn recent years, bio-economic modeling of the exploitation of biological resources has gained importance in meeting people\\'s needs. Sustainable development and renewable resource management have a direct relationship in which ecologists and economists are interested. There have been much research regarding persistence, global stability, and optimal harvesting strategy for a single organism. The reaction-diffusion equations are well established and used widely for modeling the spatial effects. They support at least the following three types of ecological phenomena which are very essential:\\n%\\\\begin{enumerate}[label=\\\\Roman*.]\\n\\\\begin{itemize}\\n\\t\\t\\\\item the existence of a lowest patch shape necessary to persist a population,\\n\\t\\\\item the extension of wave fronts corresponding to biological invasions, and\\n\\t\\\\item \\tthe  spatial pattern formations in the population distributions in homogeneous environments.\\n\\\\end{itemize}\\t\\n%\\\\end{enumerate}\\n\\n\\n\\\\section{Model and Methods}\\nThis study considers a non-homogeneous diffusive single-species Gompertz model incorporated with the zero Neumann boundary conditions and its optimal harvesting policy where all the coefficients are smooth periodic functions. Let us consider the model below\\n\\\\begin{align}\\\\label{106}\\n\\\\begin{cases}\\n\\\\frac{\\\\displaystyle \\\\partial u}{\\\\displaystyle \\\\partial t}  \\n=D \\\\Delta u+ r(x, t)u(x, t) \\\\ln \\\\left(\\\\frac{\\\\displaystyle \\\\mathcal{K}(x, t)} {\\\\displaystyle u(x, t)}\\\\right) - H(x, t)u(x, t),\\\\; (x, t)\\\\in \\\\Omega\\\\times (0,\\\\infty)\\\\\\\\\\n u(x,0)=u_0>0,\\\\;\\\\; x\\\\in\\\\Omega\\\\\\\\\\n\\\\frac{\\\\displaystyle \\\\partial u}{\\\\displaystyle \\\\partial \\\\eta}=0,  \\\\;\\\\; (x, t)\\\\in \\\\partial\\\\Omega\\\\times (0,\\\\infty) \\n\\\\end{cases}\\n\\\\end{align}\\nwhere $u(x, t)$ is the population density, $r(x, t)$ is the intrinsic growth rate, $H(x, t)$ is harvesting rate, $\\\\mathcal{K}(x, t)$ is the carrying capacity of the environment. The domain $\\\\Omega$ is a bounded region of $\\\\mathbb{R}^n,(1\\\\leq n\\\\leq 3)$ with a small boundary and time $ t\\\\in(0,\\\\infty)$. The boundary $\\\\partial \\\\Omega \\\\in \\\\mathcal{C}^{2+\\\\alpha}$ has the property of an interior contact ball. Here $\\\\Delta$ is the Laplace operator in $\\\\mathbb{R}^n$, the constant $D>0$ is the diffusive coefficient. $\\\\mathcal{K}(x, t), \\\\; r(x, t), \\\\; \\\\frac{\\\\displaystyle \\\\partial \\\\mathcal{K}}{\\\\displaystyle \\\\partial  t}, \\\\; \\\\frac{\\\\displaystyle \\\\partial r}{\\\\displaystyle \\\\partial  t}$ are uniformly bounded from below and from above in $\\\\overline{\\\\Lambda}$ where, $\\\\Lambda\\\\equiv \\\\Omega\\\\times (0,+\\\\infty)$ and $\\\\overline{\\\\Lambda}\\\\equiv \\\\overline{\\\\Omega}\\\\times (0,+\\\\infty)$ (similarly $\\\\partial\\\\Lambda\\\\equiv \\\\partial \\\\Omega\\\\times (0,+\\\\infty)$).\\\\\\\\\\n\\nWhile we are considering the model (\\\\ref{106}), then in the absence of growth function $f(x,t, u,r,K)$, the organism has no change on their density level, which yields a uniform population distribution over the domain. Again if $r=0$ or, $D$ is very large, the solution of (\\\\ref{106}) tends to be uniformly distributed. The assumption is reasonable for uniform resources, which means the carrying capacity $\\\\mathcal{K}$ is not spatially dependent. In the case of nonuniform resource distribution, the model (\\\\ref{106}) suggests that the movement of the population to the areas with lower per capita available resources is contingent and biologically questionable. The idea of this type of diffusion in (\\\\ref{106}) was first considered in \\\\cite{EBL} motivated by choice of optimal harvesting strategies. It is also noted that other diffusion types, specifically nonlinear, were considered in population dynamics which is based on the experimental data \\\\cite{KAMT, JDM2, YWX}.\\n\\nFor further analysis, we have following assumptions on \\n$$f(x,t,u,r,\\\\mathcal{K})= r(x, t)u(x, t) \\\\ln \\\\left(\\\\displaystyle\\\\frac{ \\\\mathcal{K}(x, t)}{u(x, t)}\\\\right)= u\\\\cdot g(x,t,u,r,\\\\mathcal{K}),$$ \\nand $f(x,t,u,r,\\\\mathcal{K})$ satisfies:\\n\\\\begin{enumerate}[label=(h\\\\arabic*)]\\n\\t\\\\item\\\\label{h1} Function $f$ is uniformly H\\\\\"{o}lder continuous in $\\\\overline{\\\\Lambda}\\\\times J$ where $J$ is either a suitable sub-interval of $\\\\mathbb{R}$ or a sector between lower and upper solutions. Moreover, functions $f$ and $\\\\frac{\\\\displaystyle \\\\partial f}{\\\\displaystyle \\\\partial u}$ are $C^1(0, t)$, H\\\\\"{o}lder continuous in $\\\\overline{\\\\Omega}$ in the $x$ variable.\\n\\t\\n\\t\\\\item\\\\label{h2} $f(x,t,u,r,\\\\mathcal{K})=u. g(x,t,u,r,\\\\mathcal{K})$ where $g(x,t,\\\\cdot,r,\\\\mathcal{K})$ is monotonically decreasing in $\\\\mathbb{R}_+$ and $g(x,t,u,r,\\\\mathcal{K})<0$ when $u(x, t)> \\\\mathcal{K}(x, t)$ and $g(x,t,u,r,\\\\mathcal{K})>0$ when $0<g(x,t,u,r,\\\\mathcal{K})<\\\\mathcal{K}(x, t), \\\\; (x, t)\\\\in \\\\Lambda$.\\n\\t\\n\\t\\\\item\\\\label{h3} $g(x,t,\\\\cdot,r,K)\\\\in C^2(\\\\mathbb{R})$.\\n\\\\end{enumerate}\\t\\nWe can easily verify that the Gompertz growth function with positive bounded $r(x, t)$ follows the above \\\\ref{h1}-\\\\ref{h3} assumptions and we assume they hold always.\\n\\nIn our study, the main results are:\\n%\\\\begin{enumerate}[label=$\\\\blacktriangleright$]\\n\\\\begin{enumerate}\\n\\t\\\\item For Gompertz law with time and space variable functions, the behavior of population  is studied with or without diffusion. The existence and uniqueness of a periodic solution is presented;\\n\\t\\\\item For time-independent parameters, there is a positive stationary solution that attracts all positive solutions under certain conditions;\\n\\t\\\\item For periodic parameters, similar  solution patterns have been found;\\n\\t\\\\item The analytical explanation of the global stability of optimal harvesting policy is presented;\\n\\t\\\\item The results are generalized using multiple growth functions with harvesting; and\\n\\t\\\\item The theoretical results are verified in a series of numerical examples.\\n\\\\end{enumerate}\\nThe paper is organized as follows. In Section \\\\ref{ssec_2} we describe the growth and harvesting of the model in absence of diffusion for constant coefficients (in sub-section \\\\ref{subsec_1}) and then for periodic coefficients (sub-section \\\\ref{subsec_2}). Then we discuss in detail the Gompertz growth model with harvesting in Section \\\\ref{ssec_3}. In Section \\\\ref{ssec_4} we present the existence, uniqueness of solutions of the diffusive Gompertz growth model. We present the proof of the existence of periodic solutions in a bounded region. In Section \\\\ref{ssec_5}, the optimal harvesting policy is discussed. In Section \\\\ref{ssec_6} we generalized the results using multiple growth functions with harvesting. A series of examples are presented in Section \\\\ref{ssec_7} for applications. Finally, Section \\\\ref{ssec_8} concludes the summary and discussion of the results.\\n\\n\\n%===========New section====Dynamics in Absence of Diffusion====================================================\\n%=======================================================================================================\\n\\\\section{Dynamics of time periodicity}\\\\label{ssec_2}\\n\\n\\\\subsection{Dynamics for constant coefficients}\\\\label{subsec_1}\\n Clark (1976)  discussed about the optimal strategy for an autonomous single population which  follows the Verhulst (logistic) growth  \\\\cite{CW_1,CW_2}. When the model (\\\\ref{106}) is only time dependent, that is $u$ only depends on time $ t$, it becomes an ordinary differential equations. If diffusion is absent, that is $D\\\\rightarrow 0$ then the model becomes\\n\\\\begin{align}\\\\label{201}\\n\\\\begin{cases}\\n\\\\displaystyle\\\\frac{du}{d t}  \\n=r u( t) \\\\ln \\\\left(\\\\frac{\\\\mathcal{K}}{u( t)}\\\\right)-H u(t), \\\\; t>0\\\\\\\\\\nu(0)=u_0>0\\n\\\\end{cases}\\n\\\\end{align}\\nwhich describes the growth and harvesting of a population, $u$, where the distributive functions $r,\\\\;\\\\mathcal{K},\\\\;H$ all are considered as a constant. Here catch per unit effort is proportional to the population level is the harvesting hypothesis. To investigate the global asymptotic behavior and optimal harvesting policy we take $\\\\displaystyle\\\\frac{du}{d t}=0$ and get\\n$$\\nru\\\\ln\\\\left(\\\\displaystyle \\\\frac{\\\\mathcal{K}}{u}\\\\right)-H u=0\\n$$\\nwhich yields\\n\\\\begin{equation}\\\\label{eq1}\\nu=\\\\mathcal{K}\\\\exp \\\\left[  {- \\\\frac{\\\\displaystyle H}{\\\\displaystyle r}}\\\\right] \\n\\\\end{equation}\\n\\nSummarizing the steady states with the results \\\\eqref{eq1}, following behaviors can be found: \\n\\\\begin{enumerate}[label=$(\\\\roman*$)]\\n\\t\\\\item If $H<r,\\\\; u=\\\\mathcal{K} \\\\exp \\\\left[{- \\\\frac{\\\\displaystyle H}{\\\\displaystyle r}}\\\\right]>0$ is the globally asymptotically stable equilibrium.\\n\\t\\\\item If $H>r,$ then $u$ decreases gradually and when $ t\\\\rightarrow\\\\infty,$ then $u\\\\rightarrow0.$ \\n\\t\\\\item If $H=r$ then $u=\\\\displaystyle\\\\frac{\\\\mathcal{K}}{e}$ which is constant. These indicates that $H=r$ is a critical value and under harvesting exploitation this $H=r$ indicates the persistence or extinction of population. \\n\\t\\\\item When the condition is $H<r,$ the sustainable yield is $h=H u$. \\n\\t\\\\item Here the maximum yield is $h_{\\\\text{max}} =\\\\frac{\\\\displaystyle r \\\\mathcal{K}}{\\\\displaystyle e}$ \\n\\twhen $u^* =\\\\frac{\\\\displaystyle \\\\mathcal{K}}{\\\\displaystyle e}$ and $H^* =r$.\\n\\\\end{enumerate}\\n\\n%===========New section====For periodic coefficients====================================================\\n%======================================================================================================= \\n\\\\subsection{Dynamics for time-periodic coefficients}\\\\label{subsec_2}\\n %The logistic model with periodic coefficients is considered in \\\\cite{MFK}. \\n We consider the model (\\\\ref{201}) for periodic coefficients $r(t),\\\\mathcal{K}(t),H(t)$, which are strictly positive, smooth and \\\\textit{T-periodic} functions in  $(0,\\\\infty)$ \\\\cite{MFK}. Considering this model follows from (\\\\ref{201})\\n \\\\begin{align}\\\\label{202}\\n\\\\begin{cases}\\n\\\\frac{\\\\displaystyle d u}{\\\\displaystyle d t}  \\n=r( t)u( t) \\\\ln \\\\left(\\\\frac{\\\\displaystyle \\\\mathcal{K}( t)}{\\\\displaystyle u( t)}\\\\right) -H( t)u( t),\\\\; t\\\\in{(0, \\\\infty)}\\\\\\\\\\nu( t_0)=u_0>0\\n\\\\end{cases}\\n\\\\end{align}\\nHere $r( t),H( t)$ and $\\\\mathcal{K}( t)$ are $C^1(0, \\\\infty)$ functions. In this case the maximum harvesting yield is $\\\\mathcal{Y}_{\\\\text{max}} (H^*( t)) =\\\\displaystyle\\\\frac{1}{e} \\\\int_{0}^{1} r( t) \\\\mathcal{K}( t) d t$. The above models are simple ODEs and do not include spatial and\\ntemporal environmental effects. Therefore, model (\\\\ref{201}) is extended to a periodic environment in \\\\cite{MFK,HL_1}. A global asymptotic stable periodic solution is obtained and the harvesting policy is stablished. In real evolutionary processes, the density of population depends both on time and space. Considering this point, we get a unique model in the following sections.\\n\\n%===========New section====Classical diffusion with harvesting====================================================\\n%======================================================================================================= \\n\\\\section{Classical diffusion with harvesting}\\\\label{ssec_3}\\nWe consider a non-homogeneous classical diffusive model with Gompertz growth law, in heterogeneous environment. Therefore, we now recall the model (\\\\ref{106}). If we take $r(x, t)\\\\equiv r(x)$, $\\\\mathcal{K}(x, t)\\\\equiv \\\\mathcal{K}(x)$ and $H(x, t)\\\\equiv H(x)$, that is $r(x),\\\\;\\\\mathcal{K}(x),\\\\; H(x)$ are space-dependent with a non-negative initial function $u_0$ then the above model (\\\\ref{106}) redefined as \\n\\\\begin{align}\\\\label{302}\\n\\\\begin{cases}\\n\\\\displaystyle\\\\frac{\\\\partial u}{\\\\partial  t}  \\n=D \\\\Delta u + r(x) u(x, t) \\\\ln\\\\left(\\\\displaystyle\\\\frac{ \\\\mathcal{K}(x)}{u(x, t)}\\\\right) -H(x) u(x, t),\\\\; (x, t)\\\\in \\\\Lambda\\\\\\\\\\nu(x,0)=u_0(x)>0,\\\\;x\\\\in\\\\Omega\\\\\\\\\\n\\\\displaystyle\\\\frac{\\\\partial u}{\\\\partial \\\\eta}=0,\\\\;\\\\;\\\\;\\\\; (x, t)\\\\in\\\\partial \\\\Lambda\\n\\\\end{cases}\\n\\\\end{align}\\nwhere $u(x, t)$ is the population density of the resource population $u$, coefficients $H(x), \\\\; r(x)$ are at least H\\\\\"{o}lder continuous functions for $x\\\\in \\\\Omega$ and independent of time. From the composition theorem and using the upper and lower solution method we get $\\\\lim\\\\limits_{ t\\\\rightarrow\\\\infty} u(x, t;u_0) =u_e(x)$ and it is the equilibrium solution corresponding to \\n\\\\begin{align}\\\\label{303}\\n\\\\begin{cases}\\n-D \\\\Delta u_e=r(x)u_e \\\\ln \\\\left( \\\\frac{\\\\displaystyle \\\\mathcal{K}(x)}{\\\\displaystyle u_e}\\\\right) -H(x)u_e,\\\\;\\\\;\\\\;x\\\\in \\\\Omega\\\\\\\\\\n\\\\frac{\\\\displaystyle \\\\partial u_e}{\\\\displaystyle \\\\partial \\\\eta}=0;\\\\;\\\\;\\\\; x\\\\in\\\\partial\\\\Omega \\n\\\\end{cases}\\n\\\\end{align}\\nFrom the variational calculus method \\\\cite{enid}, here the optimal equilibrium population label is $u_e^*(x)= \\\\frac{\\\\displaystyle \\\\mathcal{K}(x)}{\\\\displaystyle e}$, the corresponding harvesting effort is $H^*(x)=\\\\displaystyle \\\\frac{D \\\\Delta \\\\mathcal{K}(x)}{\\\\mathcal{K}(x)}+r(x) $ and the maximum sustainable yield is $\\\\mathcal{Y}_{max}= \\\\frac{\\\\displaystyle 1}{\\\\displaystyle e}\\\\int_{\\\\Omega}r(x)\\\\mathcal{K}(x) dx$ \\\\cite{HLK}. This result is likewise to the specially homogeneous logistic equation considered in \\\\cite{CW_1,CW_2,MFK}.\\\\\\\\\\n\\n%Following now, consider the case that the population density $u(x, t)$ of this spatially non-homogeneous Gompertz model (\\\\ref{106}) tends to a strictly positive $\\\\mathcal{T}-periodic$ solution $u^*(x, t)$ for $(x,t)\\\\in\\\\Lambda$.\\n\\n\\n\\n%===========New section====Uniqueness and existence of a periodic solution====================================================\\n%======================================================================================================= \\n\\\\section{Uniqueness and existence of a periodic solution}\\\\label{ssec_4}\\nIn this section, we assume that\\n\\\\begin{enumerate}[label=j${\\\\arabic*}$:] %[label=(h\\\\arabic*)]\\n\\t\\\\item $\\\\mathcal{K}(x, t),\\\\; H(x, t)$ and $r(x, t)$ are H\\\\\"{o}lder continuous in $x$, continuously differentiable $\\\\mathcal{T}-periodic$ functions and strictly positive for any $(x, t)\\\\in \\\\overline{\\\\Lambda}$.\\n\\t\\n\\t\\\\item For a given function $\\\\psi(x, t,u,r,\\\\mathcal{K})$ we denote $\\\\psi_m$ and $\\\\psi_l$ be the maximum and minimum of $\\\\psi(x, t,u,r,\\\\mathcal{K})$ on $\\\\overline{\\\\Lambda}$.\\n\\\\end{enumerate}\\n\\n\\\\begin{Th}\\\\label{thor_1}\\n\\tAssume that $\\\\displaystyle \\\\frac{\\\\mathcal{K}_m}{\\\\mathcal{K}_l}>1$,  $H_m r_m-H_l r_l>0$. Then there exists $u^*(x, t)\\\\in \\\\left(\\\\mathcal{K}_l e^{-\\\\frac{H_m}{r_l}}, \\\\mathcal{K}_m e^{-\\\\frac{H_l}{r_m}}\\\\right)$  while $\\\\mathcal{K}_l e^{-\\\\frac{H_m}{r_l}} \\\\leq u_0(x)\\\\leq \\\\mathcal{K}_m e^{-\\\\frac{H_l}{r_m}}$  for $x\\\\in\\\\overline{\\\\Omega}$, the solution of (\\\\ref{106}) $u(x, t)\\\\rightarrow u^*(x, t)$ when $t\\\\rightarrow\\\\infty$.\\n\\\\end{Th}\\n\\n\\\\begin{proof}\\nConsider $u_m$ and $u_l$ as the solutions of \\\\ref{402}\\n\\\\begin{align}\\\\label{402}\\n\\\\begin{cases}\\nr_m\\\\ln\\\\left( \\\\frac{\\\\displaystyle \\\\mathcal{K}_m}{\\\\displaystyle u_m}\\\\right) -H_l=0\\\\\\\\\\nr_l\\\\ln\\\\left( \\\\frac{\\\\displaystyle \\\\mathcal{K}_l}{\\\\displaystyle u_l}\\\\right) -H_m=0 \\n\\\\end{cases}\\n\\\\end{align}\\nWe get a unique positive solution $u_m$ and $u_l$ if $\\\\frac{\\\\displaystyle H_m}{\\\\displaystyle r_l}<0$, which are $u_m=\\\\mathcal{K}_m e^{-\\\\frac{H_l}{r_m}}$ and $u_l=\\\\mathcal{K}_l e^{-\\\\frac{H_m}{r_l}}$.\\n\\nIt is obvious that $u_m>u_l$ and\\n\\\\begin{align}\\n\\\\begin{cases}\\n&\\\\frac{\\\\displaystyle \\\\partial u_m}{\\\\displaystyle \\\\partial  t} -D \\\\Delta u_m=0\\\\nonumber\\\\\\\\\\n&u_m \\\\left(r_m \\\\ln\\\\left( \\\\frac{\\\\displaystyle \\\\mathcal{K}_m}{\\\\displaystyle u_m}\\\\right) -H_l\\\\right)\\\\geq u_m \\\\left(\\\\ln\\\\left(\\\\frac{\\\\displaystyle \\\\mathcal{K}(x, t)}{\\\\displaystyle u}\\\\right)r(x, t) -H(x, t)\\\\right) \\\\nonumber\\\\\\\\\\n\\\\end{cases}\\n\\\\end{align}\\n\\\\begin{align}\\n\\\\begin{cases}\\n&\\\\frac{\\\\displaystyle \\\\partial u_l}{\\\\displaystyle \\\\partial  t} -D \\\\Delta u_l=0\\\\nonumber\\\\\\\\\\n&u_l \\\\left(r_l \\\\ln\\\\left(\\\\frac{\\\\displaystyle \\\\mathcal{K}_l}{\\\\displaystyle u_l}\\\\right) -H_m\\\\right)\\\\leq u_l\\\\left( \\\\ln\\\\left(\\\\frac{\\\\displaystyle \\\\mathcal{K}(x, t)}{\\\\displaystyle u}\\\\right)r(x, t) -H(x, t)\\\\right) \\\\nonumber\\n\\\\end{cases}\\n\\\\end{align}\\nThat is, $u_m$ and $u_l$ are the constant coupled upper and lower solutions of (\\\\ref{106}). Let, $p$ and $q$ are $\\\\mathcal{T}-periodic$ quasi-solutions and for  $\\\\overline{\\\\Omega} \\\\times[0,T]$ they satisfy $u_l\\\\leq q(x, t) \\\\leq p(x, t) \\\\leq u_m$. So\\n\\\\begin{align}\\\\label{403}\\n\\\\begin{cases}\\n\\\\frac{\\\\displaystyle \\\\partial p}{\\\\displaystyle \\\\partial t} -D \\\\Delta p =p \\\\left( \\\\ln\\\\left(\\\\frac{\\\\displaystyle \\\\mathcal{K}}{\\\\displaystyle p}\\\\right)r -H\\\\right),\\\\;(x, t)\\\\in \\\\Lambda\\\\\\\\\\n\\\\frac{\\\\displaystyle \\\\partial q}{\\\\displaystyle \\\\partial  t} -D \\\\Delta q =q \\\\left( \\\\ln\\\\left(\\\\frac{\\\\displaystyle \\\\mathcal{K}}{\\\\displaystyle q}\\\\right)r -H\\\\right),\\\\;(x, t)\\\\in \\\\Lambda\\\\\\\\\\n\\\\displaystyle\\\\frac{\\\\partial p}{\\\\partial\\\\eta} =\\\\displaystyle\\\\frac{\\\\partial q}{\\\\partial\\\\eta} =0,\\\\;\\\\;\\\\; (x, t)\\\\in \\\\partial\\\\Lambda\\n\\\\end{cases}\\n\\\\end{align}\\nNow subtracting the first two equations from (\\\\ref{403}), we can write\\n\\\\begin{align}\\n&(p-q) \\\\frac{\\\\displaystyle \\\\partial (p-q) }{\\\\displaystyle\\\\partial  t} \\\\nonumber\\\\\\\\\\n&=(p-q) D \\\\Delta (p-q) +(p-q) p\\\\left(r\\\\ln \\\\left( \\\\frac{\\\\displaystyle \\\\mathcal{K}}{\\\\displaystyle p}\\\\right) -H\\\\right) -(p-q) q\\\\left(r\\\\ln \\\\left( \\\\frac{\\\\displaystyle \\\\mathcal{K}}{\\\\displaystyle q}\\\\right) -H\\\\right)\\\\nonumber\\\\\\\\\\n&=(p-q) D \\\\Delta(p-q) +(p-q)^2 r\\\\ln\\\\left( \\\\displaystyle\\\\frac{q}{p}\\\\right)  -(p-q)^2H\\\\nonumber\\n\\\\end{align}\\nAs $p$ and $q$ are periodic functions,\\n\\\\begin{align}\\n0 &=\\\\int \\\\limits_{0}^{\\\\mathcal{T}} \\\\int \\\\limits_{\\\\Omega} (p-q) \\\\displaystyle\\\\frac{\\\\partial(p-q)}{\\\\partial t} dx d t\\\\nonumber\\\\\\\\\\n&\\\\leq -\\\\int \\\\limits_{0}^{\\\\mathcal{T}}\\\\int \\\\limits_{\\\\Omega} D |\\\\nabla((p-q)|^2 dx d t +\\\\int\\\\limits_{0}^{\\\\mathcal{T}}\\\\int \\\\limits_{\\\\Omega}(p-q)^2\\\\left(r\\\\ln\\\\displaystyle\\\\frac{q}{p}-H\\\\right) dxd t\\\\nonumber\\\\\\\\\\n&\\\\le -\\\\int \\\\limits_{0}^{\\\\mathcal{T}}\\\\int \\\\limits_{\\\\Omega} D |\\\\nabla(p-q)|^2 dx d t +r_m\\\\left(\\\\ln\\\\left(\\\\displaystyle\\\\frac{\\\\mathcal{K}_l}{\\\\mathcal{K}_m}\\\\right) -\\\\displaystyle\\\\frac{H_m}{r_l}\\\\right)\\\\int \\\\limits_{0}^{\\\\mathcal{T}}\\\\int\\\\limits_{\\\\Omega}(p-q)^2 dx d t\\\\nonumber\\\\\\\\\\n&\\\\leq 0\\\\nonumber\\n\\\\end{align}\\nNow from $\\\\left\\\\lbrace \\\\ln\\\\left( \\\\frac{\\\\displaystyle \\\\mathcal{K}_l}{\\\\displaystyle \\\\mathcal{K}_m}\\\\right) -\\\\frac{\\\\displaystyle H_m}{\\\\displaystyle r_l}\\\\right\\\\rbrace > \\\\frac{\\\\displaystyle H_l}{\\\\displaystyle r_m}$ and $\\\\frac{\\\\displaystyle \\\\mathcal{K}_l}{\\\\displaystyle \\\\mathcal{K}_m}>1$ we get $H_m r_m>H_l r_l$, for which it is obvious that $p=q\\\\equiv u^*$ for a unique $\\\\mathcal{T}-periodic$ solution $u^*$ in the interval $(u_l,\\\\; u_m)$ \\\\cite{ZY}. Therefore for any $u_0(x)\\\\in(\\\\hat{u},\\\\tilde{u})$ the solution of (\\\\ref{106}) satisfies $u(x, t)\\\\rightarrow u^*(x, t)$ as $t\\\\rightarrow\\\\infty$ and $x\\\\in\\\\overline{\\\\Omega}$.\\n\\\\end{proof}\\n\\n\\n%===========New section====Sustainable yield \\\\& optimal population mass====================================================\\n%=======================================================================================================\\n\\\\section{Sustainable yield with optimal policy}\\\\label{ssec_5}\\nAccording to Theorem \\\\ref{thor_1} in section \\\\ref{ssec_4}, under the exploitative condition, the persistence of population is ensured by the condition $\\\\displaystyle\\\\frac{\\\\mathcal{K}_m}{\\\\mathcal{K}_l}>1$ and $H_m r_m-H_l r_l>0$. Therefore for $ t\\\\rightarrow +\\\\infty$ and $u_0(x)>0,x\\\\in\\\\Omega$ we find $u^*(x, t;u_0)$, a unique global asymptotically positive periodic solution. In this section, using the technique of variational calculus \\\\cite{JS,gelfand} we are going to find out the optimal policy.\\\\\\\\\\nIn general, consider $p(x,y)$ be a function of two variables and the functional is\\n\\\\begin{align}\\\\label{501}\\n\\\\Psi [p(x,y)]=\\\\iint \\\\limits \\\\displaystyle\\\\mathcal{G}\\\\left(x,y,p,p_x,p_y,p_{xx},p_{xy},p_{yy}\\\\right) dx dy\\n\\\\end{align}\\nFor the functional $\\\\Psi[p]$, to attain a maximum on a specific solution, the necessary condition is\\n\\\\begin{align}\\\\label{502}\\n\\\\mathcal{G}_p+\\\\left(\\\\displaystyle\\\\frac{\\\\partial^2 \\\\mathcal{G}_{p_{xx}}}{\\\\partial x^2} +\\\\displaystyle\\\\frac{\\\\partial^2 \\\\mathcal{G}_{p_{xy}}}{\\\\partial x \\\\partial y} +\\\\displaystyle\\\\frac{\\\\partial^2 \\\\mathcal{G}_{p_{yy}}}{\\\\partial y^2}\\\\right)-\\\\left(\\\\displaystyle\\\\frac{\\\\partial \\\\mathcal{G}_{p_x}}{\\\\partial x} +\\\\displaystyle\\\\frac{\\\\partial \\\\mathcal{G}_{p_y}}{\\\\partial y}\\\\right)=0\\n\\\\end{align}\\nSimilarly for multivariate functions of two variables we get a functional\\n\\\\begin{align}\\\\label{503}\\n\\\\Psi[p(x,y),q(x,y)]=\\\\iint \\\\limits \\\\displaystyle \\\\mathcal{G}\\\\left(x,y,p,q,p_x,p_y,q_x,q_y,p_{xx},p_{xy},p_{yy},q_{xx},q_{xy},q_{yy}\\\\right)dx dy\\n\\\\end{align}\\nAnd the necessary conditions are \\n\\\\begin{align}\\\\label{504}\\n\\\\begin{cases}\\n\\\\mathcal{G}_p +\\\\left(\\\\frac{\\\\partial^2 \\\\mathcal{G}_{p_{xx}}}{\\\\partial x^2} +\\\\frac{\\\\partial^2 \\\\mathcal{G}_{p_{xy}}}{\\\\partial x\\\\partial y} +\\\\frac{\\\\partial^2 \\\\mathcal{G}_{p_{yy}}}{\\\\partial y^2}\\\\right) -\\\\left(\\\\frac{\\\\partial \\\\mathcal{G}_{p_x}}{\\\\partial x}+\\\\frac{\\\\partial \\\\mathcal{G}_{p_y}}{\\\\partial y}\\\\right)=0\\\\\\\\\\n\\\\mathcal{G}_q +\\\\left(\\\\frac{\\\\partial^2 \\\\mathcal{G}_{q_{xx}}}{\\\\partial x^2} +\\\\frac{\\\\partial^2 \\\\mathcal{G}_{q_{xy}}}{\\\\partial x\\\\partial y} +\\\\frac{\\\\partial^2 \\\\mathcal{G}_{q_{yy}}}{\\\\partial y^2}\\\\right) -\\\\left(\\\\frac{\\\\partial \\\\mathcal{G}_{q_x}}{\\\\partial x}+\\\\frac{\\\\partial \\\\mathcal{G}_{q_y}}{\\\\partial y}\\\\right)=0\\n\\\\end{cases}\\n\\\\end{align}\\nThe functional of three variables generalizes (\\\\ref{503}) and (\\\\ref{504}). Now the spatial case is to maximize the sustainable yield and the optimal $H$ and $p$ is $h=\\\\max\\\\limits_{p,H}\\\\int \\\\limits_{0}^{\\\\mathcal{T}}\\\\int \\\\limits_{\\\\Omega}\\\\displaystyle H(x, t)p(x, t)dxd t$.\\\\\\\\\\nIn addition, $H\\\\;\\\\text{and}\\\\;p$ satisfies \\n\\\\begin{align}\\\\label{510}\\n\\\\begin{cases}\\n\\\\displaystyle\\\\frac{\\\\partial p}{\\\\partial  t} =D \\\\Delta p +r(x, t)p(x,t) \\\\ln\\\\left(\\\\frac{\\\\displaystyle \\\\mathcal{K}(x, t)}{\\\\displaystyle p(x,t)}\\\\right)  -H(x, t)p(x,t),\\\\; (x, t) \\\\in \\\\Lambda \\\\\\\\\\n\\\\displaystyle\\\\frac{\\\\partial p}{\\\\partial \\\\eta} =0, \\\\;\\\\;\\\\; (x, t) \\\\in\\\\partial\\\\Lambda\\\\\\\\\\np(x, t) =p(x, t+\\\\mathcal{T}),\\\\;\\\\;\\\\; x\\\\in\\\\bar{\\\\Omega},\\\\;\\\\;\\\\\\\\\\nH(x, t)\\\\geq 0,\\\\; H(x, t) =H(x, t+\\\\mathcal{T}),\\\\;(x, t)\\\\in \\\\Lambda\\n\\\\end{cases}\\n\\\\end{align}\\nUsing the Lagrange multiplier method, we want to find out the optimal $p$ and $H$ and the objective functional\\n\\\\begin{align}\\n\\\\Psi \\\\left[p(x,y),H(x,y),\\\\lambda(x,y)\\\\right] =\\\\int\\\\limits_{0}^{\\\\mathcal{T}}\\\\int \\\\limits_{\\\\Omega} \\\\left \\\\lbrace H p +\\\\lambda \\\\left(\\\\frac{\\\\partial p}{\\\\partial t} -D \\\\Delta p -r p\\\\ln\\\\left(\\\\frac{\\\\mathcal{K}}{p}\\\\right) +H p\\\\right)\\\\right\\\\rbrace dxdy\\\\nonumber\\n\\\\end{align}\\nWe denote \\n\\\\begin{align}\\n\\\\displaystyle \\\\mathcal{G}\\\\left(x, t,H,\\\\lambda,p,p_ t,\\\\Delta p\\\\right) =H p +\\\\lambda\\\\left(\\\\frac{\\\\partial p}{\\\\partial  t} -D \\\\Delta p -r p\\\\ln\\\\left(\\\\frac{\\\\mathcal{K}}{p}\\\\right) +H p\\\\right) \\\\nonumber\\n\\\\end{align}\\nTo maximize the functional $\\\\Psi[p,H,\\\\lambda]$, necessary condition is\\n\\\\begin{align}\\\\label{505}\\n\\\\begin{cases}\\n\\\\frac{ \\\\partial \\\\mathcal{G}}{ \\\\partial H}=0\\\\\\\\\\n\\\\frac{ \\\\partial \\\\mathcal{G}}{ \\\\partial\\\\lambda}=0\\\\\\\\\\n\\\\frac{\\\\partial \\\\mathcal{G}}{\\\\partial p} -\\\\frac{\\\\partial \\\\mathcal{G}_{p_ t}}{\\\\partial  t} +\\\\sum \\\\limits_{i=1}^{3}\\\\frac{\\\\partial^2 \\\\mathcal{G}_{x_ix_i}}{\\\\partial x_i^2}=0,\\\\;\\\\;\\\\;\\\\;\\\\;\\\\\\\\\\n\\\\left. \\\\frac{\\\\partial p}{\\\\partial \\\\eta}\\\\right| _{\\\\partial\\\\Omega}=0\\n\\\\end{cases}\\n\\\\end{align}\\nhere $\\\\mathcal{G}_{x_ix_i}:=\\\\displaystyle\\\\frac{\\\\partial^2 \\\\mathcal{G}}{\\\\partial x_i^2},\\\\;\\\\; 1\\\\leq i\\\\leq3$. Now from (\\\\ref{505}) it is obvious that $\\\\lambda\\\\equiv -1$, as the first equation gives $p+\\\\lambda p=0$. Again, the third one implies\\n\\\\begin{align}\\\\label{506}\\nH+\\\\displaystyle\\\\frac{\\\\partial\\\\lambda}{\\\\partial  t} -D \\\\Delta\\\\lambda -r\\\\lambda\\\\ln\\\\displaystyle\\\\frac{\\\\mathcal{K}}{p}  +r\\\\lambda+ H\\\\lambda=0 \\n\\\\end{align}\\nIf $\\\\lambda=-1$, from (\\\\ref{506}) we obtain$u^*(x, t)=\\\\frac{\\\\displaystyle \\\\mathcal{K}(x, t)}{\\\\displaystyle e}$ and is the optimal population level. From the second equation of (\\\\ref{505}), we get\\n\\\\begin{align}\\\\label{507}\\n\\\\displaystyle\\\\frac{\\\\partial p}{\\\\partial t} -D \\\\Delta p -r p\\\\ln\\\\left( \\\\displaystyle\\\\frac{\\\\mathcal{K}}{p}\\\\right)  +H p=0\\n\\\\end{align}\\nWe know that $H^*(x, t) =r +\\\\frac{\\\\displaystyle D \\\\Delta \\\\mathcal{K}}{\\\\displaystyle \\\\mathcal{K}} -\\\\frac{\\\\displaystyle 1}{\\\\displaystyle \\\\mathcal{K}}\\\\frac{\\\\displaystyle\\\\partial \\\\mathcal{K}}{\\\\displaystyle\\\\partial  t}$ and the corresponding  maximal sustainable yield for unit time is\\n\\\\begin{align}\\n\\\\frac{1}{\\\\mathcal{T}}\\\\int\\\\limits_{0}^{\\\\mathcal{T}}\\\\int\\\\limits_{\\\\Omega} \\\\displaystyle H^*\\\\displaystyle u^* dxd t &=\\\\frac{1}{\\\\mathcal{T}}\\\\int \\\\limits_{0}^{\\\\mathcal{T}}\\\\int\\\\limits_{\\\\Omega} \\\\frac{\\\\mathcal{K}}{e}\\\\left(\\\\frac{D \\\\Delta \\\\mathcal{K}}{\\\\mathcal{K}} -\\\\frac{1}{\\\\mathcal{K}}\\\\frac{\\\\partial \\\\mathcal{K}}{\\\\partial  t}+r \\\\right)dxd t\\\\nonumber\\\\\\\\\\n&=\\\\frac{1}{\\\\mathcal{T}}\\\\int \\\\limits_{0}^{\\\\mathcal{T}}\\\\int\\\\limits_{\\\\Omega} \\\\left(\\\\frac{D \\\\Delta \\\\mathcal{K}}{e} -\\\\frac{1}{e}\\\\frac{\\\\partial \\\\mathcal{K}}{\\\\partial  t}+\\\\frac{r \\\\mathcal{K}}{e} \\\\right)dxd t\\\\nonumber\\\\\\\\\\n%&=\\\\frac{1}{\\\\mathcal{T}}\\\\int \\\\limits_{0}^{\\\\mathcal{T}}\\\\int \\\\limits_{\\\\Omega} \\\\left(\\\\frac{r \\\\mathcal{K}}{e} +\\\\frac{D }{e}\\\\Delta \\\\mathcal{K}\\\\right)dxd t -\\\\frac{1}{\\\\mathcal{T}}\\\\int \\\\limits_{0}^{\\\\mathcal{T}}\\\\int\\\\limits_{\\\\Omega} \\\\frac{1}{e}\\\\frac{\\\\partial \\\\mathcal{K}}{\\\\partial  t}dxd t\\\\nonumber\\\\\\\\\\n&=\\\\frac{1}{\\\\mathcal{T}}\\\\int \\\\limits_{0}^{\\\\mathcal{T}}\\\\int\\\\limits_{\\\\Omega} \\\\left(\\\\frac{1}{e}\\\\displaystyle r(x, t)\\\\displaystyle \\\\mathcal{K}(x, t) +\\\\frac{D }{e}\\\\Delta \\\\mathcal{K}\\\\right)dxd t\\\\nonumber\\n\\\\end{align} \\nAs $\\\\mathcal{K}(x, t)$ is periodic, we find the last equality valid. Above discussion leads to following Theorem \\\\ref{thor_2}.\\n\\n\\\\begin{Th}\\\\label{thor_2}\\nSuppose $u_l\\\\leq\\\\frac{ \\\\mathcal{K}(x, t)}{e}\\\\leq u_m$ and we denote $\\\\displaystyle H^*(x, t):=D \\\\frac{\\\\Delta \\\\mathcal{K}}{\\\\mathcal{K}} -\\\\frac{1}{\\\\mathcal{K}}\\\\frac{\\\\partial \\\\mathcal{K}}{\\\\partial  t}+r\\\\geq 0$. %for $\\\\left(x, t\\\\right)\\\\in \\\\overline{\\\\Lambda}$ %,\\\\; \\\\left(x, t\\\\right)\\\\in\\\\overline{\\\\Lambda}\\nThen the optimal sustainable yield is\\n\\t\\\\begin{equation}\\n\\t\\\\Phi_{\\\\text{max}}=\\\\max\\\\limits_{u,H}\\\\int \\\\limits_{0}^{\\\\mathcal{T}}\\\\int \\\\limits_{\\\\Omega}\\\\displaystyle H(x, t)\\\\displaystyle u(x, t)dxd t, \\\\; (x, t)\\\\in\\\\Lambda\\\\nonumber\\n\\t\\\\end{equation}\\nHere boundary condition (\\\\ref{106}) and  a differential equation constraint  are satisfied, and we find the optimal harvesting effort \\n\\t\\\\begin{equation}\\n\\tH^*(x, t)=r(x,t)+D\\\\displaystyle\\\\frac{ \\\\Delta \\\\mathcal{K}(x,t)}{\\\\mathcal{K}(x,t)} -\\\\displaystyle\\\\frac{1}{\\\\mathcal{K}(x,t)}\\\\displaystyle\\\\frac{\\\\partial \\\\mathcal{K}(x,t)}{\\\\partial t}\\\\nonumber\\n\\t\\\\end{equation}\\nTherefore the optimal average sustainable yield in a periodic time is\\n\\t\\\\begin{equation} \\n\\t\\\\displaystyle\\\\frac{1}{\\\\mathcal{T}}\\\\int\\\\limits_{0}^{\\\\mathcal{T}}\\\\int\\\\limits_{\\\\Omega} t^*(x, t)u^*(x, t)dx d t =\\\\displaystyle\\\\frac{1}{\\\\mathcal{T}}\\\\int\\\\limits_{0}^{\\\\mathcal{T}}\\\\int\\\\limits_{\\\\Omega}\\\\left(\\\\displaystyle\\\\frac{r(x, t)\\\\mathcal{K}(x, t)}{e} +\\\\displaystyle\\\\frac{D }{e}\\\\Delta \\\\mathcal{K}\\\\right)dxd t\\\\nonumber\\n\\t\\\\end{equation}\\n\\\\end{Th}\\n\\n\\n%===========New section====A generalized form====================================================\\n%=======================================================================================================\\n\\\\section{Classical diffusion with generalized growth function}\\\\label{ssec_6}\\nIn this section our goal is to discuss the problem (\\\\ref{106}) in a more generalized form. Let $\\\\phi(x, t,u)$ is restrictive density function,\\n\\\\begin{align}\\\\label{601}\\n\\\\begin{cases}\\n\\\\displaystyle\\\\frac{\\\\partial u}{\\\\partial  t}  =D \\\\Delta u +ru \\\\phi(x, t,u) -Hu \\\\\\\\\\nu(x,0)=u_0(x),\\\\; x\\\\in\\\\Omega\\\\\\\\\\n\\\\displaystyle\\\\frac{\\\\partial u}{\\\\partial \\\\eta}=0,\\\\; (x, t)\\\\in\\\\partial\\\\Lambda\\n\\\\end{cases}\\n\\\\end{align}\\nThis function $\\\\phi(x, t,u)$ satisfies\\n\\\\begin{enumerate}[label=(s$\\\\arabic*$)]\\n\\t\\\\item\\\\label{H1} Monotonically decreasing continuous function in $ (x, t)\\\\in\\\\overline{\\\\Lambda}$. \\n\\t\\\\item\\\\label{H2} There exists $\\\\mathcal{K}>0$, and for $0<u<\\\\mathcal{K}$ it implies $\\\\phi(x, t,\\\\mathcal{K})=0$; for $u>\\\\mathcal{K},\\\\;\\\\phi(x, t,u)<0$ and  $\\\\phi(x, t,0)=1$.\\n\\t\\\\item\\\\label{H3} $\\\\phi(x, t,u)$ is a H\\\\\"older continuous and $\\\\mathcal{T}-periodic$ function and in some closed interval of $R$ Lipschitz continuous in $u$. There exists $l>0$ such that\\n\\t\\\\begin{align}\\\\label{602}\\n\\t|\\\\phi(\\\\cdot,\\\\cdot,u)-\\\\phi(\\\\cdot,\\\\cdot,v)|\\\\leq l|u-v|\\n\\t\\\\end{align}\\n\\\\end{enumerate}\\t\\nfor all $(x, t)\\\\in\\\\Lambda$ and $u,v\\\\in[L,M]$. We consider \\\\ref{H1}-\\\\ref{H3} are hold. We are going to use a similar method as in Theorem \\\\ref{thor_1} to prove that (\\\\ref{601}) has a unique $\\\\mathcal{T}-periodic$ solution.\\n\\n\\n\\\\begin{Th}\\\\label{thor_3}\\nSuppose $-r_m\\\\ln\\\\left(l\\\\theta \\\\right)<H_l<H_m<r_l$, $l$ is Lipschitz constant that satisfies (\\\\ref{602}), in the interval $(\\\\theta,\\\\omega)$ there exists a unique periodic solution $u^*(x, t)$ . Again for $\\\\theta\\\\leq u_0(x)\\\\leq \\\\omega$ solution of (\\\\ref{601}) satisfies $u(x, t)\\\\rightarrow u^*(x, t)$ when $t\\\\rightarrow\\\\infty$ and $x\\\\in\\\\overline{\\\\Omega}$.\\n\\\\end{Th}\\n\\n\\\\begin{proof}\\n\\tWe assume $\\\\overline{\\\\phi}(u)=\\\\max\\\\limits_{x, t}\\\\phi(x, t,u)$ and $\\\\underline \\\\phi(u)=\\\\min\\\\limits_{x, t}\\\\phi(x, t,u)$ and the constants $\\\\theta$ and $\\\\omega$ satisfy algebraic equations\\n\\t\\\\begin{align}\\n\\t\\\\begin{cases}\\n\\tr_m\\\\overline{\\\\phi}(\\\\omega)-H_l=0\\\\nonumber\\\\\\\\\\n\\tr_l\\\\underline{\\\\phi}(\\\\theta)-H_m=0\\\\nonumber\\n\\t\\\\end{cases}\\n\\t\\\\end{align}\\n\\tor,\\n\\t\\\\begin{align}\\\\label{603}\\n\\t\\\\displaystyle\\\\frac{H_l}{r_m}=\\\\overline{\\\\phi}(\\\\omega),\\\\;\\\\;\\\\;\\\\frac{H_m}{r_l}=\\\\underline{\\\\phi}(\\\\theta)\\n\\t\\\\end{align}\\n\\tIt is easy to see\\n\\t\\\\begin{align}\\n\\t0<\\\\overline{\\\\phi}(\\\\omega)=\\\\displaystyle\\\\frac{H_l}{r_m}\\\\leq\\\\displaystyle\\\\frac{H_m}{r_l}=\\\\underline{\\\\phi}(\\\\theta)<1\\\\nonumber\\n\\t\\\\end{align}\\n\\tFrom assumption \\\\ref{H1} and \\\\ref{H2}, $0<\\\\theta\\\\leq\\\\omega<\\\\mathcal{K}$ and we know that $\\\\theta$ and $\\\\omega$ are unique. Moreover\\n\\t\\\\begin{align}\\\\label{604}\\n    \\\\displaystyle\\\\frac{\\\\partial\\\\omega}{\\\\partial  t} -D \\\\Delta\\\\omega=0 =\\\\omega\\\\left(r_m \\\\overline{\\\\phi}(\\\\omega) -H_l\\\\right)\\\\geq\\\\omega\\\\left(r \\\\phi(x, t,\\\\omega) -H\\\\right)\\\\nonumber\\\\\\\\\\n    \\\\displaystyle\\\\frac{\\\\partial\\\\theta}{\\\\partial  t} -D \\\\Delta\\\\theta=0 =\\\\theta\\\\left(r_l\\\\underline{\\\\phi}(\\\\theta)-H_m\\\\right)\\\\leq\\\\theta\\\\left(r \\\\phi(x, t,\\\\theta) -H\\\\right).\\\\nonumber\\n\\t\\\\end{align}\\n\\tAnd this implies, $\\\\theta$ and $\\\\omega$ are the constant coupled upper and lower solutions of (\\\\ref{601}) respectively. Now there exists $\\\\mathcal{T}-periodic$ quasi-solutions $p$ and $q$ \\\\cite{ZY} and they satisfy\\n\\t\\\\begin{equation}\\\\label{605}\\n\\t\\\\theta\\\\leq q(x, t)\\\\leq p(x, t)\\\\leq \\\\omega,\\\\;\\\\;\\\\; \\\\overline{\\\\Omega}\\\\times\\\\left[0,\\\\mathcal{T}\\\\right] \\\\nonumber \\n\\t\\\\end{equation}\\n\\t\\\\begin{align}\\\\label{606}\\n\\t\\\\begin{cases}\\n\\t\\\\displaystyle\\\\frac{\\\\partial p}{\\\\partial  t} -D \\\\Delta p =p \\\\left(r \\\\phi(x, t,p) -\\\\displaystyle H\\\\right),\\\\; (x,t) \\\\in \\\\Lambda \\\\\\\\\\n\\t\\\\displaystyle\\\\frac{\\\\partial q}{\\\\partial  t} -D \\\\Delta q =q \\\\left(r \\\\phi(x, t,q) -H\\\\right),\\\\;(x,t) \\\\in \\\\Lambda\\\\\\\\\\n\\t\\\\displaystyle\\\\frac{\\\\partial p}{\\\\partial \\\\eta}=\\\\displaystyle\\\\frac{\\\\partial q}{\\\\partial \\\\eta}=0,\\\\;(x,t) \\\\in \\\\partial \\\\Lambda\\n\\t\\\\end{cases}\\n\\t\\\\end{align}\\n\\tFrom (\\\\ref{606}) and the periodicity of $p$ and $q$, we have \\n\\t\\\\begin{align}\\n\\t\\\\left(p-q \\\\right)\\\\displaystyle\\\\frac{\\\\partial}{\\\\partial  t}\\\\left(p-q \\\\right) &=\\\\left(p - q\\\\right)D \\\\Delta\\\\left(p-q\\\\right) +\\\\left(p-q\\\\right)p\\\\left(r \\\\phi(x, t,p)-H\\\\right) -\\\\left(p-q\\\\right)q\\\\left(r \\\\phi(x, t,q)-H\\\\right) \\\\nonumber\\\\\\\\\\n\\t&=\\\\left(p-q\\\\right)D \\\\Delta\\\\left(p-q\\\\right) -H\\\\left(p-q\\\\right)^2 +r\\\\left(p-q\\\\right)\\\\left[p\\\\phi(x, t,p) -q\\\\phi(x, t,q)\\\\right]\\\\nonumber\\n\\t\\\\end{align}\\n\\tWe find $\\\\phi(x, t,u)$ is a decreasing function on $u$ from \\\\ref{H1} and \\\\ref{H2}. Again $0<\\\\phi(x, t,p)<1,$ then $\\\\phi(x, t,p) -\\\\phi(x, t,q) \\\\leq -\\\\left(p-q\\\\right)\\\\ln l$. As $p$ and $q$ are periodic, we have\\n\\t\\\\begin{align}\\n\\t0 &=\\\\int \\\\limits_{0}^{\\\\mathcal{T}}\\\\int\\\\limits_{\\\\Omega}\\\\left(p-q\\\\right)\\\\frac{\\\\partial}{\\\\partial  t}\\\\left(p-q\\\\right)dxd t\\\\nonumber\\\\\\\\\\n\\t& \\\\leq -\\\\int\\\\limits_{0}^{\\\\mathcal{T}}\\\\int\\\\limits_{\\\\Omega}D |\\\\Delta\\\\left(p-q\\\\right)|^2 dxdt -\\\\int\\\\limits_{0}^{\\\\mathcal{T}}\\\\int\\\\limits_{\\\\Omega}H_l\\\\left(p-q\\\\right)^2dxd t \\\\nonumber\\\\\\\\ &\\\\;\\\\;\\\\;+\\\\int\\\\limits_{0}^{\\\\mathcal{T}}\\\\int\\\\limits_{\\\\Omega}r_m\\\\left(p-q\\\\right)\\\\left[p\\\\phi(x, t,p) -q \\\\phi(x, t,q) +p \\\\phi(x, t,p)-q\\\\phi(x, t,q)\\\\right]dxdt \\\\nonumber\\\\\\\\\\n\\t&\\\\leq-\\\\int\\\\limits_{0}^{\\\\mathcal{T}}\\\\int\\\\limits_{\\\\Omega}D |\\\\Delta\\\\left(p-q\\\\right)|^2 dxdt -\\\\int\\\\limits_{0}^{\\\\mathcal{T}}\\\\int\\\\limits_{\\\\Omega}H_l\\\\left(p-q\\\\right)^2 dxd t \\\\nonumber\\\\\\\\\\n\\t&\\\\;\\\\;\\\\;+\\\\int\\\\limits_{0}^{\\\\mathcal{T}}\\\\int\\\\limits_{\\\\Omega}r_M\\\\left(p-q\\\\right) \\\\left[\\\\left(p-q\\\\right)\\\\cdot 0 -\\\\left(p-q\\\\right)\\\\ln\\\\left(l\\\\theta\\\\right)\\\\right]dxd t \\\\nonumber\\\\\\\\\\n\\t&\\\\leq -\\\\int\\\\limits_{0}^{\\\\mathcal{T}}\\\\int\\\\limits_{\\\\Omega}D |\\\\Delta\\\\left(p-q\\\\right)|^2dxd t -\\\\int\\\\limits_{0}^{\\\\mathcal{T}}\\\\int\\\\limits_{\\\\Omega}\\\\left[H_l +r_m\\\\ln\\\\left(l\\\\theta\\\\right)\\\\right] \\\\left(p-q\\\\right)^2dxd t\\\\nonumber\\\\\\\\\\n\\t&\\\\leq 0\\\\nonumber\\n\\t\\\\end{align}\\n\\tIt follows from $H_l+r_m\\\\ln\\\\left(l\\\\theta\\\\right)>0$ that $p=q\\\\equiv u^*$. Hence, according to theorem there is a unique $\\\\mathcal{T}-periodic$ solution $u^*$ in the interval $\\\\left(\\\\theta,\\\\omega\\\\right)$ the correspondent solution $u(x, t)$ of (\\\\ref{601}) satisfies\\n\\t\\\\begin{equation}\\n\\tu(x, t)\\\\rightarrow u^*(x, t)\\\\;\\\\text{as}\\\\;  t\\\\rightarrow\\\\infty\\\\;\\\\text{for}\\\\;x\\\\in\\\\overline{\\\\Omega}\\\\nonumber\\n\\t\\\\end{equation}\\n\\\\end{proof}\\n\\n\\n\\\\begin{Th}\\\\label{thor_4}\\nSuppose we find a unique positive periodic solution $u^*(x, t)$ to the equation\\n\\\\begin{equation}\\n\\\\phi(x, t,u)+u\\\\frac{\\\\partial \\\\phi}{\\\\partial u}=0,\\\\; \\\\left(x, t\\\\right)\\\\in\\\\overline{\\\\Lambda}\\\\nonumber\\n\\\\end{equation}\\nFrom the first equation of (\\\\ref{601}) we denote\\n\\\\begin{equation}\\nH^*(x, t)=D \\\\frac{\\\\Delta u^*}{u^*} +r \\\\phi(x, t,u^*) -\\\\frac{1}{u^*}\\\\frac{\\\\partial u^*}{\\\\partial  t}\\\\geq 0\\\\nonumber\\n\\\\end{equation}\\nthen the problem of optimal sustainable yield  is\\n\\\\begin{equation}\\n\\\\max\\\\limits_{u,H}\\\\int \\\\limits_{0}^{\\\\mathcal{T}}\\\\int\\\\limits_{\\\\Omega}u(x, t)H(x, t)dxdt, \\\\;\\\\;\\\\; (x, t)\\\\in \\\\Lambda \\\\nonumber\\n\\\\end{equation}\\nthat satisfies the differential equation constrain condition similar to (\\\\ref{510}) and boundary  of (\\\\ref{601}). Hence, the optimal average sustainable yield is \\n\\\\begin{equation}\\n\\\\displaystyle\\\\frac{1}{\\\\mathcal{T}}\\\\int\\\\limits_{0}^{\\\\mathcal{T}}\\\\int\\\\limits_{\\\\Omega} u^*(x, t) H^*(x, t)dxdt =\\\\displaystyle\\\\frac{1}{\\\\mathcal{T}}\\\\int\\\\limits_{0}^{\\\\mathcal{T}}\\\\int\\\\limits_{\\\\Omega}\\\\left(r(x, t)u^* \\\\phi(x, t,u^*) +D \\\\Delta u^*\\\\right)dxd t\\\\nonumber\\n\\\\end{equation}\\n\\\\end{Th}\\nThe proof is similar to that of Theorem \\\\ref{thor_2}, so it is omitted here.\\n\\n\\n%===========New section====Examples and Applications====================================================\\n%=======================================================================================================\\n\\\\section{Numerical Simulation}\\\\label{ssec_7}\\nThis section aims to present the numerical simulations\\' results that complement the previous sections\\' theoretical results. In the following series of examples, we observe the behavior by diffusion coefficient $D $, intrinsic growth rate $r$, harvesting rate $H$, and carrying capacity $\\\\mathcal{K}$ of the model (\\\\ref{106}). \\nFirst, let us consider the case of without harvesting, that is $H=0$. \\n\\\\begin{Ex}\\\\label{ex_1}\\n We consider \\\\eqref{106} on $\\\\Omega\\\\equiv x = (0,1)$ with diffusion coefficient $D =1.0$, harvesting $H=0.0$, carrying capacity $\\\\mathcal{K}(x,t)=2.5+\\\\cos(\\\\pi x) \\\\sin(\\\\pi t)$ and different intrinsic growth rates $r=1.2,\\\\; 1.2+\\\\cos(\\\\pi x),\\\\; 1.2+\\\\cos(\\\\pi x)\\\\sin(\\\\pi t)$. \\n  \\t\\\\begin{figure}[h]\\n  \\t\\t\\\\centering\\n  \\t\\t\\\\includegraphics[width=0.3 \\\\linewidth]{figg_ex1_1.eps}~~\\n  \\t\\t\\\\includegraphics[width=0.3 \\\\linewidth]{figg_ex1_2.eps}~~\\n  \\t\\t\\\\includegraphics[width=0.3 \\\\linewidth]{figg_ex1_3.eps}\\n  \\t\\t\\\\caption{Solution of \\\\eqref{106} for $H=0.0$, $\\\\mathcal{K}(x, t)=2.5+\\\\cos(\\\\pi x) \\\\sin(\\\\pi t)$, $D=1,\\\\; u_0=\\\\{0.1,\\\\;1.1,\\\\; 2.0+ \\\\sin(\\\\pi x)\\\\}$, (left) $r=1.2$, (middle) $r(x)=1.2+\\\\cos(\\\\pi x)$ and (right) $r(x, t)=1.2+\\\\cos(\\\\pi x)\\\\sin(\\\\pi t)$.}  \\n  \\t\\t\\\\label{figg1}\\n  \\t\\\\end{figure}\\n The numerical simulation in Fig. \\\\ref{figg1} shows that in the absence of harvesting, we get a unique positive periodic solution whatever the initial density point is. Moreover, the result shows similar behavior in two dimensions (Fig. \\\\ref{figg2}).\\n  \\\\begin{figure}[h]\\n  \\t\\\\centering\\n  \\t\\\\includegraphics[width=0.3 \\\\linewidth]{ex1_3D_1.eps}~~\\n  \\t\\\\includegraphics[width=0.3 \\\\linewidth]{ex1_3D_2.eps}~~\\n  \\t\\\\includegraphics[width=0.3 \\\\linewidth]{ex1_3D_3.eps}\\n   \\t\\\\caption{Solution of \\\\eqref{106} for $H=0.0$,  $\\\\mathcal{K}(x, t)=2.5+\\\\cos(\\\\pi x) \\\\sin(\\\\pi t)$, $D =1.0$, $u_0=2.0+ \\\\sin(\\\\pi x)$ for $r=1.2$ (left), $r(x)=1.2+\\\\cos(\\\\pi x)$ (middle) and  $r(x, t)=1.2+\\\\cos(\\\\pi x)\\\\sin(\\\\pi t)$ (right).}  \\n  \\t\\\\label{figg2}\\n  \\\\end{figure}\\nLet us compare the uniqueness for various initial conditions and different growth rates. The existence and uniqueness of the solution of \\\\eqref{106} are valid as designed in Fig. \\\\ref{figg1} and Fig. \\\\ref{figg2}. These figures justified the result of Theorem \\\\ref{thor_1}.\\n\\\\end{Ex}\\n\\\\begin{Ex}\\\\label{ex_2}\\nConsider \\\\eqref{106} on $\\\\Omega = (0,1)$ with diffusion coefficient $D =1.0$ and $H=0.0$,  time variable carrying capacity $\\\\mathcal{K}(x,t)=2.5+\\\\cos(\\\\pi x) \\\\sin(\\\\pi t)$ and initial population $u_0(x)=2.0+ \\\\sin(\\\\pi x)$. \\nFor time-periodic carrying capacity and  for various growth functions, the numerical simulation shows a positive unique solution. The equilibrium depends on the change of intrinsic growth rates $r=1.2,\\\\; 1.2+\\\\cos(\\\\pi x),\\\\; 1.2+\\\\cos(\\\\pi x)\\\\sin(\\\\pi t)$ which is shown in left figure of Fig. \\\\ref{figg3}. Also in right figure of Fig. \\\\ref{figg3} explains the uniqueness of the positive solution despite of different initial mass.\\n\\t  \\\\begin{figure}[h]\\n\\t\\t\\\\centering\\n\\t\\t\\\\includegraphics[width=0.4 \\\\linewidth]{figg_ex2_1.png}~~~\\n\\t\\t\\\\includegraphics[width=0.4 \\\\linewidth]{figg_ex2_2.eps}\\t\\t\\n\\t\\t\\\\caption{Solution of \\\\eqref{106} for $H=0.0$, $\\\\mathcal{K}(x,t)=2.5+\\\\cos(\\\\pi x) \\\\sin(\\\\pi t)$, $D =1.0$ in $\\\\Omega=(0,1)$. $u_0=2.0+\\\\sin(\\\\pi x)$ and $r=\\\\{1.2, 1.2+\\\\cos(\\\\pi x), 1.2+\\\\cos(\\\\pi x)\\\\sin(\\\\pi t)\\\\}$ (left); $r=1.2+\\\\cos(\\\\pi x)\\\\sin(\\\\pi t)$ and $u_0=\\\\{0.1,\\\\;1.1,\\\\; 2.0+ \\\\sin(\\\\pi x)\\\\}$ (right).}  \\n\\t\\t\\\\label{figg3}\\n\\t\\\\end{figure}\\n\\\\end{Ex}\\nIn both cases (Case \\\\ref{ex_1} and Case \\\\ref{ex_2}), Theorem \\\\ref{thor_1} is verified for random time-periodic carrying capacity functions $\\\\mathcal{K}(x, t)$. In the next example we outline the influence of the diffusion coefficients $D$ on the equilibrium level.\\n\\\\begin{Ex}\\\\label{ex_3}\\nConsider model \\\\eqref{106} with time variable carrying capacity $\\\\mathcal{K}(x,t)=2.5+\\\\cos(\\\\pi x) \\\\sin(\\\\pi t)$ and intrinsic growth rate $r(x,t)=1.2+\\\\cos(\\\\pi x)\\\\sin(\\\\pi t)$. Also consider $H=0$,  initial population density $u_0=1.1$ for $\\\\Omega = (0,1)$. \\nNumerically, it shows that the value of $u(x, t)$ converges to the time periodic positive solution when $ t\\\\rightarrow\\\\infty$. The more we increase the diffusion strategy, that is, increasing of $D $, the more we converge to the limit state for the same initial density and $ t>0$. See the illustration of Fig. \\\\ref{figg4}. \\n\\t\\\\begin{figure}[h]\\n\\t\\t\\\\centering\\n\\t\\t\\\\includegraphics[width=0.3 \\\\linewidth]{figg_ex3_1.eps}~~\\n\\t\\t\\\\includegraphics[width=0.3 \\\\linewidth]{figg_ex3_12.eps}~~\\n\\t\\t\\\\includegraphics[width=0.3 \\\\linewidth]{figg_ex3_13.eps}\\n\\t\\t\\\\caption{Solution of \\\\eqref{106} for $\\\\mathcal{K}(x,t)=2.5+\\\\cos(\\\\pi x)\\\\sin(\\\\pi t)$, $u_0=1.1$ and $r(x,t)=1.2+\\\\cos(\\\\pi x)\\\\sin(\\\\pi t)$ in $\\\\Omega=(0,1)$. Here $D =\\\\{0.5,1.5,2.0\\\\}$ for time $ t=40$ in left; time $ t=400$ in middle and $D =\\\\{0.5,1.5,2.5\\\\}$ for time $ t=300$ in right.}  \\n\\t\\t\\\\label{figg4}\\n\\t\\\\end{figure}\\nThere is a similar illustration in Fig. \\\\ref{figg5} for a two-dimensional scenario.\\n\\\\begin{figure}[h]\\n\\t\\\\centering\\n\\t\\\\includegraphics[width=0.3 \\\\linewidth]{3D_31.eps}~~\\n\\t\\\\includegraphics[width=0.3 \\\\linewidth]{3D_32.eps}~~\\n\\t\\\\includegraphics[width=0.3 \\\\linewidth]{3D_33.eps}\\n\\t\\\\caption{Solution of \\\\eqref{106} for $\\\\mathcal{K}(x,t)=2.5+\\\\cos(\\\\pi x)\\\\sin(\\\\pi t)$, $u_0=1.0+\\\\sin(\\\\pi x)$ and $r=1.2+\\\\cos(\\\\pi x)\\\\sin(\\\\pi t)$ in $\\\\Omega=(0,1)$ and $t=(0,50)$. $D=2.5$ (left); time $D=1.5$ (middle); $D=0.5$ (right).}  \\n\\t\\\\label{figg5}\\n\\\\end{figure}\\nFinally, if we consider $\\\\mathcal{K}(x)$, carrying capacity only dependent on the environment, then we get a unique positive solution as shown in Fig. \\\\ref{figg6}. \\n\\\\begin{figure}[ht]\\n\\t\\\\centering\\n\\t\\\\includegraphics[width=0.33 \\\\linewidth]{figg_ex3_4.eps}~~\\n\\t\\\\includegraphics[width=0.33 \\\\linewidth]{figg_ex3_5.eps}\\n\\t\\\\caption{Solution of  \\\\eqref{106} for $\\\\mathcal{K}(x)=2.5+\\\\cos(\\\\pi x)$, $u_0=1.1$ and $r=1.2+\\\\cos(\\\\pi x)$. $D =0.5$ for time $ t=50$  in $\\\\Omega=(0,1)$ (left); $u_0=\\\\{0.1,1.1,2.0+\\\\sin(\\\\pi x)\\\\}$  (right).}  \\n\\t\\\\label{figg6}\\n\\\\end{figure}\\n\\\\end{Ex}\\nNow we consider the case with harvesting in \\\\eqref{106}. Here first explore the behavior in the absence of diffusion.\\n\\\\begin{Ex}\\\\label{ex_4}\\n\\tLet us consider model \\\\eqref{106} in absence of diffusion, which is equivalent to \\\\eqref{201} over the domain $\\\\Omega=(0,1)$. Since the diffusion is absent, so for $D =0$ and the constant coefficients $\\\\mathcal{K},H,r$ are constant. \\n\\tWe verify the results of subsection \\\\ref{subsec_1}. First we choose different values of harvesting rate $H=\\\\{0.5,\\\\;1.2,\\\\;1.5\\\\}$ with growth rate $r=1.2$ and carrying capacity $\\\\mathcal{K}=2$. This shows that the results found in subsection \\\\ref{subsec_1} is justified.\\n   \\t\\\\begin{figure}[h]\\n \\t\\\\centering\\n \\t\\\\includegraphics[width=0.33 \\\\linewidth]{figg_ex4_1.eps}~~\\n \\t\\\\includegraphics[width=0.33 \\\\linewidth]{figg_ex4_2.eps} \\n \\t\\\\caption{Solution of  \\\\eqref{106} for $D =0.0$, $\\\\mathcal{K}=2.0, \\\\; r=1.2 $, time $ t=10$  in $\\\\Omega=(0,1)$. $u_0=0.2 \\\\; \\\\textit{and} \\\\; H=\\\\{0.75,\\\\;1.2,\\\\;1.5\\\\}$  (left); $H =0.75 \\\\; \\\\textit{and} \\\\; u_0=\\\\{0.5, \\\\; 1.1, \\\\; 1.5\\\\}$ (right).} \\n \\t\\\\label{figg7}\\n \\\\end{figure}\\n We also check for different initial values with a fixed harvesting rate, where the results are justified. See Fig. \\\\ref{figg7}.\\n \\\\end{Ex}\\n%\\n\\\\begin{Ex}\\\\label{ex_5}\\nConsider model \\\\eqref{202} over $\\\\Omega=(0,1)$ and for $D =0.0$. The coefficients $\\\\mathcal{K}( t),H( t),r( t)$ are all time dependent, that is functions of time $ t$. \\nFor growth rates $r(t)=1.3+ \\\\cos  t$, carrying capacity $\\\\mathcal{K}(t)=2.1+ \\\\cos  t$ and different values of harvesting rates ($H=\\\\{1.1+\\\\cos t, \\\\;1.3+\\\\cos t,\\\\;1.5+\\\\cos t\\\\}$ in Fig. \\\\ref{figg8} (left)) and initial densities ($u_0=\\\\{0.3, \\\\; 1.1, \\\\; 1.7\\\\}$ with $H =1.2 + \\\\cos  t$ in Fig. \\\\ref{figg8} (right)), we observe the solution of \\\\eqref{202}. If we take smooth functions in the coefficients we get a unique positive \\\\textit{T-periodic} solution of equation \\\\eqref{202}.\\n\\\\begin{figure}[h]\\n\\t\\\\centering\\n\\t\\\\includegraphics[width=0.33 \\\\linewidth]{figg_ex5_1.eps}~~\\n\\t\\\\includegraphics[width=0.33 \\\\linewidth]{figg_ex5_2.eps}\\n\\t\\\\caption{Solution of  \\\\eqref{106} for $D =0.0$, $\\\\mathcal{K}=2.1+ \\\\cos  t$, $r=1.3+ \\\\cos  t $,  in $\\\\Omega=(0,1)$. $u_0=1.1$ and $H=\\\\{1.1+\\\\cos t, \\\\;1.3+\\\\cos t,\\\\;1.5+\\\\cos t\\\\}$ in left; $H =1.2 + \\\\cos  t$ and $u_0=\\\\{0.3, \\\\; 1.1, \\\\; 1.7\\\\}$ (right).} \\n\\t\\\\label{figg8}\\n\\\\end{figure}\\n\\\\end{Ex}\\nIn the above two cases (Case \\\\ref{ex_4} and Case \\\\ref{ex_5}; Figures \\\\ref{figg7} and  \\\\ref{figg8}), we verify the results in section \\\\ref{ssec_2} for constant coefficients and time dependent coefficients respectively. \\\\\\\\\\nIn both cases, we have a critical value $H = r,$ which leads to persistence or extinction of population under harvesting exploitation. We also get a unique positive solution for $H < r$, whatever the starting point is.\\n\\\\begin{Ex}\\\\label{ex_6}\\nConsider equation \\\\eqref{106} with all coefficients are only spatially distributed that is independent of time $t$, $\\\\mathcal{K}(x)\\\\in C^2\\\\left(\\\\Omega\\\\right)$ which satisfies $\\\\displaystyle\\\\left. \\\\frac{\\\\partial u}{\\\\partial \\\\eta}\\\\right| _{\\\\partial\\\\Omega}=0$, which is discussed with the model (\\\\ref{302}).\\\\\\\\\\nHere, the optimal population level is $u^*=\\\\displaystyle\\\\frac{\\\\mathcal{K}(x)}{e}$. Moreover\\n\\\\begin{align*}\\nH^*(x)&=r(x)+D\\\\displaystyle\\\\frac{\\\\Delta \\\\mathcal{K}(x)}{\\\\mathcal{K}(x)} -\\\\displaystyle\\\\frac{1}{\\\\mathcal{K}(x)}\\\\displaystyle\\\\frac{\\\\partial \\\\mathcal{K}(x)}{\\\\partial  t}\\\\\\\\\\n& =r(x)+D\\\\displaystyle\\\\frac{\\\\Delta \\\\mathcal{K}(x)}{\\\\mathcal{K}(x)}\\n\\\\end{align*}\\nAfter a long time period, $ t\\\\rightarrow +\\\\infty$, for $u_0(x)>0$ the solution $u( t,x;u_0)$ tends to the optimal solution $u^*(x)$. Therefore the corresponding maximal sustainable yield for unit time is  \\n\\\\begin{align}\\n\\\\displaystyle\\\\frac{1}{\\\\mathcal{T}}\\\\int \\\\limits_{0}^{\\\\mathcal{T}}\\\\int \\\\limits_{\\\\Omega}H^*(x, t)u^*(x, t)dxd t &=\\\\displaystyle\\\\frac{1}{\\\\mathcal{T}}\\\\int \\\\limits_{0}^{\\\\mathcal{T}}\\\\int \\\\limits_{\\\\Omega}\\\\left(\\\\displaystyle\\\\frac{1}{e}r(x, t)\\\\mathcal{K}(x, t) +\\\\displaystyle\\\\frac{D }{e}\\\\Delta \\\\mathcal{K}\\\\right)dxd t\\\\nonumber\\\\\\\\\\n&=\\\\int \\\\limits_{\\\\Omega}\\\\displaystyle\\\\frac{\\\\mathcal{K}(x)}{e}\\\\left(r(x) +\\\\displaystyle\\\\frac{D \\\\Delta \\\\mathcal{K}(x)}{\\\\mathcal{K}(x)}\\\\right)dx\\\\nonumber\\\\\\\\\\n&=\\\\displaystyle\\\\frac{1}{e}\\\\int \\\\limits_{\\\\Omega}r(x)\\\\mathcal{K}(x)dx\\\\nonumber\\n\\\\end{align} \\nThe last inequality follows from the Green\\'s Theorem \\\\cite{HL_1}.\\nNow we explore the behavior of equation \\\\eqref{302} in Fig. \\\\ref{figg9} for $ D=1.0$, $\\\\mathcal{K}(x)=2.5+ \\\\cos^2(\\\\pi x)$, $u_0(x)=0.5+ \\\\sin^2(\\\\pi x)$, $r(x)=1.5+\\\\cos(\\\\pi x)\\\\sin(x)$ and $H(x)=0.75+\\\\cos^2(\\\\pi x)$ on $\\\\Omega=(0,1)$ for $ t=(0,100)$ and it verifies the result of Theorem \\\\ref{thor_2}.\\n\\\\begin{figure}[h]\\n\\t\\\\centering\\n\\t\\\\includegraphics[width=0.3 \\\\linewidth]{figg_ex6_3.eps}~~\\n\\t\\\\includegraphics[width=0.3 \\\\linewidth]{figg_ex6_1.eps}~~\\n\\t\\\\includegraphics[width=0.3 \\\\linewidth]{figg_ex6_2.eps}\\n\\t\\\\caption{Solution of  \\\\eqref{302} for $D =1.0, \\\\; \\\\mathcal{K}(x)=2.5+ \\\\cos^2(\\\\pi x), \\\\; u_0(x)=0.5+ \\\\sin^2(\\\\pi x), \\\\; r(x)=1.5+\\\\cos(\\\\pi x)\\\\sin(x), \\\\; H(x)=0.75+\\\\cos^2(\\\\pi x)$ on $\\\\Omega=(0,1)\\\\; \\\\text{and} \\\\; t=(0,100)$ for left and middle figure; for right figure, $r>H,\\\\; r=H,\\\\; r<H$.} \\n\\t\\\\label{figg9}\\n\\\\end{figure}\\n\\\\end{Ex}\\n\\\\begin{Ex}\\\\label{ex_7}\\nConsider model \\\\eqref{106} over the region $\\\\Omega = (0,1)$ with diffusion coefficient $D =1.0$, carrying capacity $\\\\mathcal{K}(x,t)=2.5+\\\\cos(\\\\pi x) \\\\sin(\\\\pi t)$ and intrinsic growth rate $r(x,t)=1.2+\\\\cos(\\\\pi x)\\\\sin(\\\\pi t)$.\\n\\nWe choose different harvesting rates $H(x,t)=0.75+\\\\cos^2(\\\\pi x)\\\\sin(\\\\pi t)<r(x,t),\\\\; 1.2+\\\\cos(\\\\pi x)\\\\sin(\\\\pi t)=r(x,t),\\\\; 1.5+\\\\cos(\\\\pi x)\\\\sin(\\\\pi t)>r(x,t)$. \\n\\nThe numerical simulation shows we get a unique positive periodic solution and explore the equilibrium on the change of intrinsic growth rates and harvesting rates.\\n\\t\\\\begin{figure}[h]\\n\\t\\t\\\\centering\\n\\t\\t\\\\includegraphics[width=0.3 \\\\linewidth]{figg_ex7_1.eps}~~\\n\\t\\t\\\\includegraphics[width=0.3 \\\\linewidth]{figg_ex7_2.eps}~~\\n\\t\\t\\\\includegraphics[width=0.3 \\\\linewidth]{figg_ex7_3.eps}\\n\\t\\t\\n\\t\\t\\\\caption{Solution of  \\\\eqref{106} for $D =1.0$, $\\\\mathcal{K}(x,t)=2.5+ \\\\cos^2(\\\\pi x)\\\\sin(\\\\pi t), \\\\; u_0(x)=1.0+ \\\\sin(\\\\pi x), \\\\; r(x,t)=1.2+\\\\cos(\\\\pi x)\\\\sin(\\\\pi t)$, $H(x,t)=\\\\{0.75+\\\\cos^2(\\\\pi x)\\\\sin(\\\\pi t),\\\\; 1.2+\\\\cos(\\\\pi x)\\\\sin(\\\\pi t),\\\\; 1.5+\\\\cos(\\\\pi x)\\\\sin(\\\\pi t)\\\\}$ for $t=500$ (left), on $\\\\Omega=(0,1)$ (middle) and $u_0=\\\\{0.1,1.1,1.0+\\\\sin(\\\\pi x)\\\\}$ (right).} \\n\\t\\t\\\\label{figg10}\\n\\t\\\\end{figure}\\n\\nIn this example (Figure \\\\ref{figg10}), Theorem \\\\ref{thor_1} is verified for random time-periodic carrying capacity functions $\\\\mathcal{K}(x, t),\\\\; r(x,t) \\\\text{and} \\\\; H(x,t)$.\\n\\nNow we outline the influence of the diffusion coefficients $D$ on the equilibrium level. With the increase of $D $, the convergence of the solution is faster than the limit state for the same initial density and $ t>0$.\\n\\nConsider model \\\\eqref{106} for various diffusion such as $D =\\\\{0.5,1.5,2.5\\\\}$ with time varying carrying capacity $\\\\mathcal{K}(x,t)=2.5+ \\\\cos^2(\\\\pi x)\\\\sin(\\\\pi t)$, intrinsic growth rate $r(x,t)=1.2+\\\\cos(\\\\pi x)\\\\sin(\\\\pi t)$, harvesting rate $H(x,t)=0.75+\\\\cos^2(\\\\pi x)\\\\sin(\\\\pi t)$ with initial population $u_0(x)=1.0+ \\\\sin(\\\\pi x)$. Fig. \\\\ref{figg11} illustrates the speed of convergence clearly.\\n    \\\\begin{figure}[h]\\n    \\t\\\\centering\\n    \\t\\\\includegraphics[width=0.33 \\\\linewidth]{figg_ex7_4.eps}~~\\n    \\t\\\\includegraphics[width=0.33  \\\\linewidth]{figg_ex7_5.eps}\\n    \\n    \\t\\\\caption{Solution of  \\\\eqref{106} for $D =\\\\{0.5,1.5,2.5\\\\}, \\\\; \\\\mathcal{K}(x,t)=2.5+ \\\\cos^2(\\\\pi x)\\\\sin(\\\\pi t), \\\\; u_0(x)=1.0+ \\\\sin(\\\\pi x), \\\\; r(x,t)=1.2+\\\\cos(\\\\pi x)\\\\sin(\\\\pi t), \\\\; H(x,t)=0.75+\\\\cos^2(\\\\pi x)\\\\sin(\\\\pi t)$ for $t=250$ (left) on $\\\\Omega=(0,1)$ (right).} \\n    \\t\\\\label{figg11}\\n    \\\\end{figure}\\n\\\\end{Ex}\\n\\n%===========New section====Examples and Applications====================================================\\n%=======================================================================================================\\n\\\\section{Summary and Discussion}\\\\label{ssec_8}\\nIn this paper, we studied a diffusion model for single species with Gompertz growth law, where carrying capacity $\\\\mathcal{K}$, intrinsic growth rate $r$, and harvesting rate $H$ are both space and time-dependent. In particular, it was demonstrated that a solution of the given model (\\\\ref{106}) exists and is unique. It is positive for a non-negative initial function for a non-empty open domain. For the model with time-dependent carrying capacity, all such solutions of (\\\\ref{106}) converge to the positive equilibrium by using upper and lower solution methods. The model is also valid for time-independent carrying capacity. However, if parameters are positive and periodic in $t$-functions rather than $t$-independent parameters, then certain restrictions on $r(x,t),\\\\; H(x,t)$ and $\\\\mathcal{K}(x,t)$ are imposed in Theorem \\\\ref{thor_3} and we get the optimal sustainable yield. The condition that the intrinsic growth rate exceeds the supremum of the relative change of the carrying capacity in time $\\\\frac{\\\\displaystyle 1}{\\\\displaystyle \\\\mathcal{K}}\\\\frac{\\\\displaystyle \\\\partial \\\\mathcal{K}}{\\\\displaystyle dt}$ means that the growth rate can compensate for the change in the carrying capacity, this restriction frequently occurs in the problems of optimal harvesting. We find the optimal harvesting policy for Gompertz law in this paper. We also generalized the results using multiple growth functions with harvesting. We presented numerical examples to justify the analytic results for various parametric values in a non-empty open domain with different initial conditions. \\n\\n\\n\\n%===================Acknowledgments================================\\n\\\\section*{Acknowledgments}\\nThe research by M. Kamrujjaman  was partially supported by the University Grant Commission (UGC), University of Dhaka, Bangladesh.\\n%The author M. Kamrujjaman research was partially supported by TWAS grant 2019\\\\_19-169\\\\,RG/MATHS/AS\\\\_I.\\n%=========================Conflict of interest======================================\\n\\\\section*{Conflict of interest}\\nThe authors declare no conflict of interest.  \\n\\n\\\\section*{Author contributions}\\nConceptualization,  M.K. and S.I.A.; methodology, M.H.A.B., K.M.A.K. and K.N.K.; software, S.I.A. and M.K.; \\nvalidation, M.R.I and M.H.A.B.; formal analysis, M.K and S.I.A.; investigation, K.N.K.\\nand K.M.A.K.; resources, K.N.K. and M.R.I; data curation, S.I.A.; original draft preparation,  S.I.A. and M.K.; review\\nand editing, K.M.A.K., M.H.A.B and M.R.I.; supervision, M.K. All authors have read and agreed to the\\npublished version of the manuscript.\\n\\n\\\\begin{thebibliography}{01}\\n\\t\\n\\\\bibitem{AMT}\\nA. M. Turing, The Chemical Basis of Morphogenesis, Phillos. Trans. R. Soc. London B 237, (1952), 37-72\\n\\n\\\\bibitem{EEHM}\\nE. E. Holmes, M. A. Lewis, J. E. Banks and R. R. Veit, Partial Differential Equations in Ecology: Spatial Interactions and Population Dynamics, Ecology, 75, No. 1 (1994), 17-29.\\n\\n\\\\bibitem{JDM}\\nJames Dickson Murray, E. A. Stanley , and D. L. Brown, On the Spatial Spread of Rabies Among Foxes, Proc. R. Soc. Lond., Series B, 229, No. 1255 (1986), 111-150.\\n\\n\\\\bibitem{CMAJ}\\nChaplain, M. A. J., Reaction-diffusion Pre-patterning and its Potential Role in Tumor Invasion, Journal of Biological Systems, 3, No. 4 (1995), 929 – 936.\\n\\n\\\\bibitem{JSM}\\n E. Braverman and M. Kamrujjaman, Competitive–cooperative models with various diffusion\\nstrategies,  Computers and Mathematics with Applications, 72 (2016) 653–662.\\n%Jonathan A. Sherratt and Martin A. Nowak, Oncogenes, Anti-oncogenes and the Immune Response to Cancer : A Mathematical model, Proc. R. Soc. Lond., Series B, 248 (1992), 261 – 271.\\n\\n\\\\bibitem{JSJ}\\nE. Braverman and M. Kamrujjaman, Lotka systems with directed dispersal dynamics: Competition and\\ninfluence of diffusion strategies, Mathematical Biosciences, 279 (2016) 1-12.\\n%Jonathan A. Sherratt and James Dickson Murray, Models of Epidermal Wound Healing, Proc. R. Soc. Lond. B 241, (1990), 29 – 41.\\n\\n%\\\\bibitem{PCF} P. C. Fife, Mathematical Aspects of Reacting and Diffusing Systems, Springer 1979.\\n\\n%\\\\bibitem{ASM} A. S. Mikhailov, Foundations of Synergetics I. Distributed Active Systems, Springer 1990.\\n\\n\\\\bibitem{CC}\\nC. Cosner, Reaction-diffusion Equations and Ecological Modeling, Book Chapter of the Book: Tutorials in Mathematical Bioscience IV (Evolution and Ecology), Edited by Avner Friedman, Springer, 1922.\\t\\n\\t\\n\\\\bibitem{XQZ}\\nX. Q. Zhao, Dynamical System in Population Biology, Springer-Verlag New York, Inc., 2003.\\n\\t\\n\\\\bibitem{YK}\\nY. Kuang, Delay differential Equations with Applications in Population Dynamics, Mathematics in Science and Engineering, Vol.191, Academic Press, Boston, 1993.\\n\\n\\\\bibitem{RSC_2}\\nR. S. Centrell and C. Cosner, Spatial Ecology via Reaction-diffusion Equations, Wiley Series in Mathematical and computational Biology, Jhon Wiley and Sons, Chichester, 2003.\\n\\n\\\\bibitem{MOMS}\\nM. Kamrujjaman, Directed vs regular diffusion strategy: evolutionary stability analysis of a competition model and an\\nideal free pair, Differential Equations \\\\& Applications, Volume 11, Number 2 (2019), 267–290\\n\\n%M. Oesterheld, M. Semmartin,  Impact of grazing on species composition: adding complexity to a generalized model, Austral. Ecol. 36 (8) (2011), 881–890.\\n\\n\\\\bibitem{SFGS}\\nM. Kamrujjaman, Interplay of resource distributions and diffusion strategies for spatially heterogeneous populations, Journal of Mathematical Modeling, Vol. 7, No. 2, 2019, pp. 175-198.\\n%S. Follak, G. Strauss, Potential distribution and management of the invasive weed Solanum carolinense in Central Europe, Weed Res. 50 (6) (2010), 544–552.\\n\\n%\\\\bibitem{BML}B. E. Saether, M. Lillegard, et al., Geographical gradients in the population dynamics of North American prairie ducks, J. Animal Ecology 77 (5) (2008), 869–882.\\n\\n\\\\bibitem{LKB}\\nL. Korobenko, M. Kamrujjaman and E. Braverman, Persistence and extinction in spatial models with a carrying capacity\\ndriven diffusion and harvesting, J. Math. Anal. Appl. 399 (2013), 352-368.\\n\\n%\\\\bibitem{KKJ} K. Kurata and J. Shi, Optimal special harvesting strategy and symmetry-breaking, {Appl. Math. Optim.} 58(2008), no.1, 89-110.\\n\\n\\\\bibitem{EBL}\\nE. Braverman and L. Braverman, Optimal harvesting of diffusive models in a non-homogeneous environment,  Nonlinear Anal., DOI http://dx.doi.org/10.1016/j.na.2009.04.025\\n\\n%\\\\bibitem{YJX}\\n%Y. Jin and X. Q. Zhao, Bistable waves for a class of cooperative reaction-diffusion systems, \\\\textit{J. Biol. Dynamics} 2(2008), no.2, 196-207.\\n\\n\\\\bibitem{EBRM}\\nE. Braverman, R. Mamdani, Continuous versus pulse harvesting for population models in constant and variable environment, J. Math. Biol. 57 (2008), 413–434.\\n\\n\\\\bibitem{SMH}\\nS. M. Henson, J. M. Cushing, The effect of periodic habitat fluctuations on a nonlinear insect population model, J. Math. Biol. 36 (1997), 201–226.\\n\\n\\\\bibitem{CX}\\nC. Xu, M. S. Boyce, D. J. Daley, Harvesting in seasonal environments, J. Math. Biol.\\n50 (2005), 663–682.\\n\\n\\\\bibitem{GGG}\\nGompertz B: On the nature of the function expressive of the law of human mortality, and on a new mode of determining the value of life contingencies. Phil Trans Royal Soc London 1825, 115:513–583.\\n\\n\\\\bibitem{WCP}\\nWinsor, CP: The Gompertz curve as a growth curve. Proc Natl Acad Sci USA\\n1932, 18:1–8.\\n\\n\\n\\\\bibitem{WSB}\\nWright, S: Book review. J Am Stat Assoc 1926, 21:493–497\\n\\n\\\\bibitem{SJRR}\\nStarck J. M., Ricklefs R. E. Avian growth and development. The evolution within the altricial-precocial spectrum. New York, Oxford: Oxford University Press; 1998. 441 p.\\n\\n\\\\bibitem{RWB}\\nRicker W. E. Growth rates and models. In: Hoar WS, Randall DJ, Brett JR, editors. Fish physiology. London: Academic Press; 1979. p. 677-743.\\n\\n\\\\bibitem{PMVP}\\nPaine C. E. T., Marthews T. R., Vogt D. R., Purves D., Rees M., Hector A., Turnbull L. A. How to fit nonlinear plant growth models and calculate growth rates: and update for ecologists. Methods in Ecology and Evolution. 2012; 3:245-56.\\n\\n\\\\bibitem{ZJRV}\\nZwietering M. H., Jongenburger I., Rombouts F. M., Van\\'T Rie T. K. Modeling of the bacterial growth Curve. Appl. Env. Micriobiol. 1990; 56(6):1975-81.\\n\\n\\\\bibitem{SGLJ}\\nSkinner G. E., Larkin J. W. Mathematical modeling of microbial growth: a review. Journal of Food Safety. 1994; 14:1975-217.\\n\\n\\\\bibitem{LAK}\\nLaird A. K., Dynamics of tumor growth. British Journal of Cancer. 1964; 18:490-502.\\n\\n\\\\bibitem{KAMT}\\nK. Kawasaki, A. Mochizuki, M. Matsushita, T. Umeda and N. Shigesada, Modeling spatio-temporal patterns generated by Baccilus subtilis, J. Theor. Biol., 188 (1997), 177–185.\\n\\n\\\\bibitem{JDM2}\\nJ. D. Murray, Mathematical Biology. II: Spatial models and biomedical applications, 3rd edition, Springer, New York, 2003.\\n\\n\\\\bibitem{YWX}\\nY. Wu and X. Q. Zhao, The existence and stability of traveling waves with transition layers for some singular cross-diffusion systems, Physica D: Nonlinear Phenomena, 200 (2005), 325–358.\\n\\n\\n\\\\bibitem{CW_1}\\nC. W. Clark, Mathematical Bio-economics: The Optimal Management of renewable resources, Wiley, New York, 1976.\\n\\n\\\\bibitem{CW_2}\\nC. W. Clark, Mathematical Bio-economics: The Optimal Management of renewable resources, Second ed., Wiley, New York, 1990.\\n\\n\\\\bibitem{MFK}\\nM. Fan and K. Wang, Optimal harvesting policy for single population with periodic coefficients, \\\\textit{Math. Biocsi}. 152 (1998) 165-177.\\n\\n\\\\bibitem{HL_1}\\nH. Li, A class of single-species models with periodic coefficients and their optimal harvesting policy, \\\\textit{J. Biomath}. 14(4) (1999) 479-483.\\n\\n\\\\bibitem{enid}\\nEnid R. Pinch, “Optimal Control and the Calculus of Variations”, Oxford University Press Inc., New York, 1993.\\n\\n\\n\\\\bibitem{HLK}\\nH. Lu and K. Wang, An autonomous single-species models and their optimal harvesting policy, \\\\textit{J. Syst. Math. Sci}. 24(4) (2004) 200-205.\\n\\n\\\\bibitem{ZY} \\nZ. Li and Y. Fu, Existence and stability of periodic quasisolutions in nonlinear parabolic systems with discrete delays, \\\\textit{J. Math. Anal. Appl.} 250 (2000) 139-161.\\n\\n\\\\bibitem{JS}\\nJ. Su and J. Pan, Functional Analysis and Variational Calculus, Press of Technology and Science University, Hefei, 1993.\\n\\n\\\\bibitem{gelfand}\\nI. M. Gelfand and S. V. Fomin, “Calculus of Variations”, Dover Publications Inc., New York, 1963.\\n\\\\end{thebibliography}\\n%\\\\iffalse \\n% \\\\fi \\n\\n\\\\end{document}     '"
      ]
     },
     "execution_count": 7,
     "metadata": {},
     "output_type": "execute_result"
    }
   ],
   "source": [
    "contents"
   ]
  },
  {
   "cell_type": "code",
   "execution_count": 9,
   "metadata": {},
   "outputs": [
    {
     "name": "stdout",
     "output_type": "stream",
     "text": [
      "3D_31.eps        figg_ex1_3.eps   figg_ex3_5.eps   figg_ex7_1.eps\r\n",
      "3D_32.eps        figg_ex2_2.eps   figg_ex4_1.eps   figg_ex7_2.eps\r\n",
      "3D_33.eps        figg_ex3_1.eps   figg_ex4_2.eps   figg_ex7_3.eps\r\n",
      "ex1_3D_1.eps     figg_ex3_12.eps  figg_ex5_1.eps   figg_ex7_4.eps\r\n",
      "ex1_3D_2.eps     figg_ex3_13.eps  figg_ex5_2.eps   figg_ex7_5.eps\r\n",
      "ex1_3D_3.eps     figg_ex3_2.eps   figg_ex6_1.eps\r\n",
      "figg_ex1_1.eps   figg_ex3_22.eps  figg_ex6_2.eps\r\n",
      "figg_ex1_2.eps   figg_ex3_4.eps   figg_ex6_3.eps\r\n"
     ]
    }
   ],
   "source": [
    "ls *.eps"
   ]
  },
  {
   "cell_type": "code",
   "execution_count": 11,
   "metadata": {},
   "outputs": [
    {
     "name": "stdout",
     "output_type": "stream",
     "text": [
      "mkdir: file_used: File exists\r\n"
     ]
    }
   ],
   "source": [
    "mkdir file_used"
   ]
  },
  {
   "cell_type": "code",
   "execution_count": 12,
   "metadata": {},
   "outputs": [],
   "source": [
    "cp 3D_31.eps file_used/"
   ]
  }
 ],
 "metadata": {
  "kernelspec": {
   "display_name": "Python 3",
   "language": "python",
   "name": "python3"
  },
  "language_info": {
   "codemirror_mode": {
    "name": "ipython",
    "version": 3
   },
   "file_extension": ".py",
   "mimetype": "text/x-python",
   "name": "python",
   "nbconvert_exporter": "python",
   "pygments_lexer": "ipython3",
   "version": "3.8.5"
  }
 },
 "nbformat": 4,
 "nbformat_minor": 4
}
