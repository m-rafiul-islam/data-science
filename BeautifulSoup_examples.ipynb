{
  "nbformat": 4,
  "nbformat_minor": 0,
  "metadata": {
    "colab": {
      "name": "BeautifulSoup_examples.ipynb",
      "provenance": [],
      "authorship_tag": "ABX9TyOchzGsQgDI+Vr0l5hRfEuv",
      "include_colab_link": true
    },
    "kernelspec": {
      "name": "python3",
      "display_name": "Python 3"
    },
    "language_info": {
      "name": "python"
    }
  },
  "cells": [
    {
      "cell_type": "markdown",
      "metadata": {
        "id": "view-in-github",
        "colab_type": "text"
      },
      "source": [
        "<a href=\"https://colab.research.google.com/github/m-rafiul-islam/data-science/blob/main/BeautifulSoup_examples.ipynb\" target=\"_parent\"><img src=\"https://colab.research.google.com/assets/colab-badge.svg\" alt=\"Open In Colab\"/></a>"
      ]
    },
    {
      "cell_type": "code",
      "source": [
        "from bs4 import BeautifulSoup\n",
        "import requests\n",
        "from csv import writer"
      ],
      "metadata": {
        "id": "qDOT8VOOfqdA"
      },
      "execution_count": null,
      "outputs": []
    },
    {
      "cell_type": "code",
      "source": [
        "url= \"https://www.pararius.com/apartments/amsterdam?ac=1\"\n",
        "page = requests.get(url)"
      ],
      "metadata": {
        "id": "bJc1NV3yf0ge"
      },
      "execution_count": null,
      "outputs": []
    },
    {
      "cell_type": "code",
      "source": [
        "print(page)"
      ],
      "metadata": {
        "colab": {
          "base_uri": "https://localhost:8080/"
        },
        "id": "mlgJYvGif4As",
        "outputId": "50e1370a-c0a2-4d54-8465-295f8550144a"
      },
      "execution_count": null,
      "outputs": [
        {
          "output_type": "stream",
          "name": "stdout",
          "text": [
            "<Response [200]>\n"
          ]
        }
      ]
    },
    {
      "cell_type": "code",
      "source": [
        "soup = BeautifulSoup(page.content, 'html.parser')"
      ],
      "metadata": {
        "id": "sR7J9C_NgEZG"
      },
      "execution_count": null,
      "outputs": []
    },
    {
      "cell_type": "code",
      "source": [
        "# soup"
      ],
      "metadata": {
        "id": "EaAv-q21gTDn"
      },
      "execution_count": null,
      "outputs": []
    },
    {
      "cell_type": "code",
      "source": [
        "# copy a special section \n",
        "lists = soup.find_all('section', class_=\"listing-search-item\")"
      ],
      "metadata": {
        "id": "By3CnfvtgUD9"
      },
      "execution_count": null,
      "outputs": []
    },
    {
      "cell_type": "code",
      "source": [
        "# lists"
      ],
      "metadata": {
        "id": "Zvdjv1o8hJim"
      },
      "execution_count": null,
      "outputs": []
    },
    {
      "cell_type": "code",
      "source": [
        "# title = list.find('a', class_=\"listing-search-item__link--title\").text.replace('\\n', '')\n",
        "# title "
      ],
      "metadata": {
        "id": "4ftr7w8chYfD"
      },
      "execution_count": null,
      "outputs": []
    },
    {
      "cell_type": "code",
      "source": [
        "with open('housing.csv', 'w', encoding='utf8', newline='') as f:\n",
        "    thewriter = writer(f)\n",
        "    header = ['Title', 'Location', 'Price', 'Area']\n",
        "    thewriter.writerow(header)\n",
        "\n",
        "    for list in lists:\n",
        "        title = list.find('a', class_=\"listing-search-item__link--title\").text.replace('\\n', '')\n",
        "        location = list.find('div', class_=\"listing-search-item__location\").text.replace('\\n', '')\n",
        "        # price = list.find('span', class_=\"listing-search-item__price\").text.replace('\\n', '')\n",
        "        # area = list.find('span', class_=\"illustrated-features__description\").text.replace('\\n', '')\n",
        "        \n",
        "        info = [title, location]\n",
        "        thewriter.writerow(info)"
      ],
      "metadata": {
        "id": "1CBxjn6BfzCM"
      },
      "execution_count": null,
      "outputs": []
    },
    {
      "cell_type": "code",
      "source": [
        "   \n",
        "from bs4 import BeautifulSoup\n",
        "import requests\n",
        "from csv import writer\n",
        "\n",
        "url= \"https://www.pararius.com/apartments/amsterdam?ac=1\"\n",
        "page = requests.get(url)\n",
        "\n",
        "soup = BeautifulSoup(page.content, 'html.parser')\n",
        "lists = soup.find_all('section', class_=\"listing-search-item\")\n",
        "\n",
        "with open('housing.csv', 'w', encoding='utf8', newline='') as f:\n",
        "    thewriter = writer(f)\n",
        "    header = ['Title', 'Location',]\n",
        "    # header = ['Title', 'Location', 'Price', 'Area']\n",
        "    thewriter.writerow(header)\n",
        "\n",
        "    for list in lists:\n",
        "        title = list.find('a', class_=\"listing-search-item__link--title\").text.replace('\\n', '')\n",
        "        location = list.find('div', class_=\"listing-search-item__location\").text.replace('\\n', '')\n",
        "        # price = list.find('span', class_=\"listing-search-item__price\").text.replace('\\n', '')\n",
        "        # area = list.find('span', class_=\"illustrated-features__description\").text.replace('\\n', '')\n",
        "        \n",
        "        # info = [title, location, price, area]\n",
        "        info = [title, location]\n",
        "        thewriter.writerow(info)\n",
        "        # print(info)"
      ],
      "metadata": {
        "id": "bl4d-Ur1PWlo"
      },
      "execution_count": null,
      "outputs": []
    },
    {
      "cell_type": "markdown",
      "source": [
        "Comprehensive Python Beautiful Soup Web Scraping Tutorial! (find/find_all, css select, scrape table) \n",
        "https://www.youtube.com/watch?v=GjKQ6V_ViQE\n"
      ],
      "metadata": {
        "id": "YWWDy2qlQMRg"
      }
    },
    {
      "cell_type": "code",
      "source": [
        ""
      ],
      "metadata": {
        "id": "nUvrCGhVQgbR"
      },
      "execution_count": null,
      "outputs": []
    }
  ]
}