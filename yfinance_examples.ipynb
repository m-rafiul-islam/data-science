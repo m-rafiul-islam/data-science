{
  "nbformat": 4,
  "nbformat_minor": 0,
  "metadata": {
    "colab": {
      "name": "yfinance_examples.ipynb",
      "provenance": [],
      "collapsed_sections": [],
      "authorship_tag": "ABX9TyNw3JoPZ8HO4/dgXzE+KUMe",
      "include_colab_link": true
    },
    "kernelspec": {
      "name": "python3",
      "display_name": "Python 3"
    },
    "language_info": {
      "name": "python"
    }
  },
  "cells": [
    {
      "cell_type": "markdown",
      "metadata": {
        "id": "view-in-github",
        "colab_type": "text"
      },
      "source": [
        "<a href=\"https://colab.research.google.com/github/m-rafiul-islam/data-science/blob/main/yfinance_examples.ipynb\" target=\"_parent\"><img src=\"https://colab.research.google.com/assets/colab-badge.svg\" alt=\"Open In Colab\"/></a>"
      ]
    },
    {
      "cell_type": "code",
      "source": [
        "# pip install yfinance "
      ],
      "metadata": {
        "id": "z-XJF-ux9FvK"
      },
      "execution_count": 4,
      "outputs": []
    },
    {
      "cell_type": "code",
      "source": [
        "import yfinance as yf\n",
        "import matplotlib.pyplot as plt\n",
        "\n",
        "msft = yf.Ticker(\"MSFT\")"
      ],
      "metadata": {
        "id": "5eLs4x6B9Dix"
      },
      "execution_count": 28,
      "outputs": []
    },
    {
      "cell_type": "code",
      "source": [
        "type(msft)"
      ],
      "metadata": {
        "colab": {
          "base_uri": "https://localhost:8080/"
        },
        "id": "YIgsyS4T9ZGo",
        "outputId": "7744b8a0-265f-4b70-878a-c3e413a74a90"
      },
      "execution_count": 7,
      "outputs": [
        {
          "output_type": "execute_result",
          "data": {
            "text/plain": [
              "yfinance.ticker.Ticker"
            ]
          },
          "metadata": {},
          "execution_count": 7
        }
      ]
    },
    {
      "cell_type": "code",
      "source": [
        "print(type(msft.info))"
      ],
      "metadata": {
        "colab": {
          "base_uri": "https://localhost:8080/"
        },
        "id": "MY4yqWoZ9eta",
        "outputId": "a1d73290-f7bc-48a7-c089-d915b7be0435"
      },
      "execution_count": 12,
      "outputs": [
        {
          "output_type": "stream",
          "name": "stdout",
          "text": [
            "<class 'dict'>\n"
          ]
        }
      ]
    },
    {
      "cell_type": "code",
      "source": [
        "stockinfo.items()"
      ],
      "metadata": {
        "colab": {
          "base_uri": "https://localhost:8080/"
        },
        "id": "nTKHavhE93RG",
        "outputId": "0e9e104f-331c-4c79-c65e-3aa2d51394bc"
      },
      "execution_count": 13,
      "outputs": [
        {
          "output_type": "execute_result",
          "data": {
            "text/plain": [
              "dict_items([('zip', '98052-6399'), ('sector', 'Technology'), ('fullTimeEmployees', 181000), ('longBusinessSummary', 'Microsoft Corporation develops, licenses, and supports software, services, devices, and solutions worldwide. Its Productivity and Business Processes segment offers Office, Exchange, SharePoint, Microsoft Teams, Office 365 Security and Compliance, and Skype for Business, as well as related Client Access Licenses (CAL); Skype, Outlook.com, OneDrive, and LinkedIn; and Dynamics 365, a set of cloud-based and on-premises business solutions for organizations and enterprise divisions. Its Intelligent Cloud segment licenses SQL, Windows Servers, Visual Studio, System Center, and related CALs; GitHub that provides a collaboration platform and code hosting service for developers; and Azure, a cloud platform. It also offers support services and Microsoft consulting services to assist customers in developing, deploying, and managing Microsoft server and desktop solutions; and training and certification on Microsoft products. Its More Personal Computing segment provides Windows original equipment manufacturer (OEM) licensing and other non-volume licensing of the Windows operating system; Windows Commercial, such as volume licensing of the Windows operating system, Windows cloud services, and other Windows commercial offerings; patent licensing; Windows Internet of Things; and MSN advertising. It also offers Surface, PC accessories, PCs, tablets, gaming and entertainment consoles, and other devices; Gaming, including Xbox hardware, and Xbox content and services; video games and third-party video game royalties; and Search, including Bing and Microsoft advertising. It sells its products through OEMs, distributors, and resellers; and directly through digital marketplaces, online stores, and retail stores. It has collaborations with Dynatrace, Inc., Morgan Stanley, Micro Focus, WPP plc, ACI Worldwide, Inc., and iCIMS, Inc., as well as strategic relationships with Avaya Holdings Corp. and wejo Limited. Microsoft Corporation was founded in 1975 and is based in Redmond, Washington.'), ('city', 'Redmond'), ('phone', '425 882 8080'), ('state', 'WA'), ('country', 'United States'), ('companyOfficers', []), ('website', 'https://www.microsoft.com'), ('maxAge', 1), ('address1', 'One Microsoft Way'), ('industry', 'Software—Infrastructure'), ('ebitdaMargins', 0.49123), ('profitMargins', 0.38498002), ('grossMargins', 0.68825996), ('operatingCashflow', 83909001216), ('revenueGrowth', 0.201), ('operatingMargins', 0.42523998), ('ebitda', 90829996032), ('targetLowPrice', 306.55), ('recommendationKey', 'buy'), ('grossProfits', 115856000000), ('freeCashflow', 46479876096), ('targetMedianPrice', 370), ('currentPrice', 314.97), ('earningsGrowth', 0.222), ('currentRatio', 2.247), ('returnOnAssets', 0.15248999), ('numberOfAnalystOpinions', 45), ('targetMeanPrice', 370.69), ('debtToEquity', 50.217), ('returnOnEquity', 0.49051), ('targetHighPrice', 425), ('totalCash', 125348003840), ('totalDebt', 80353001472), ('totalRevenue', 184902991872), ('totalCashPerShare', 16.72), ('financialCurrency', 'USD'), ('revenuePerShare', 24.585), ('quickRatio', 2.05), ('recommendationMean', 1.7), ('exchange', 'NMS'), ('shortName', 'Microsoft Corporation'), ('longName', 'Microsoft Corporation'), ('exchangeTimezoneName', 'America/New_York'), ('exchangeTimezoneShortName', 'EDT'), ('isEsgPopulated', False), ('gmtOffSetMilliseconds', '-14400000'), ('quoteType', 'EQUITY'), ('symbol', 'MSFT'), ('messageBoardId', 'finmb_21835'), ('market', 'us_market'), ('annualHoldingsTurnover', None), ('enterpriseToRevenue', 12.302), ('beta3Year', None), ('enterpriseToEbitda', 25.043), ('52WeekChange', 0.24230134), ('morningStarRiskRating', None), ('forwardEps', 10.74), ('revenueQuarterlyGrowth', None), ('sharesOutstanding', 7496869888), ('fundInceptionDate', None), ('annualReportExpenseRatio', None), ('totalAssets', None), ('bookValue', 21.335), ('sharesShort', 36442967), ('sharesPercentSharesOut', 0.0049), ('fundFamily', None), ('lastFiscalYearEnd', 1625011200), ('heldPercentInstitutions', 0.71876997), ('netIncomeToCommon', 71184998400), ('trailingEps', 9.389), ('lastDividendValue', 0.62), ('SandP52WeekChange', 0.11475241), ('priceToBook', 14.763066), ('heldPercentInsiders', 0.00059), ('nextFiscalYearEnd', 1688083200), ('yield', None), ('mostRecentQuarter', 1640908800), ('shortRatio', 1.04), ('sharesShortPreviousMonthDate', 1644883200), ('floatShares', 7489894342), ('beta', 0.910925), ('enterpriseValue', 2274685353984), ('priceHint', 2), ('threeYearAverageReturn', None), ('lastSplitDate', 1045526400), ('lastSplitFactor', '2:1'), ('legalType', None), ('lastDividendDate', 1652832000), ('morningStarOverallRating', None), ('earningsQuarterlyGrowth', 0.214), ('priceToSalesTrailing12Months', 12.770421), ('dateShortInterest', 1647302400), ('pegRatio', 1.9), ('ytdReturn', None), ('forwardPE', 29.326817), ('lastCapGain', None), ('shortPercentOfFloat', 0.0049), ('sharesShortPriorMonth', 35348757), ('impliedSharesOutstanding', 0), ('category', None), ('fiveYearAverageReturn', None), ('previousClose', 309.42), ('regularMarketOpen', 310.09), ('twoHundredDayAverage', 303.641), ('trailingAnnualDividendYield', 0.007627173), ('payoutRatio', 0.2449), ('volume24Hr', None), ('regularMarketDayHigh', 315.1), ('navPrice', None), ('averageDailyVolume10Day', 27735970), ('regularMarketPreviousClose', 309.42), ('fiftyDayAverage', 297.684), ('trailingAnnualDividendRate', 2.36), ('open', 310.09), ('toCurrency', None), ('averageVolume10days', 27735970), ('expireDate', None), ('algorithm', None), ('dividendRate', 2.48), ('exDividendDate', 1652832000), ('circulatingSupply', None), ('startDate', None), ('regularMarketDayLow', 309.72), ('currency', 'USD'), ('trailingPE', 33.546703), ('regularMarketVolume', 24175560), ('lastMarket', None), ('maxSupply', None), ('openInterest', None), ('marketCap', 2361289080832), ('volumeAllCurrencies', None), ('strikePrice', None), ('averageVolume', 38431636), ('dayLow', 309.72), ('ask', 315.37), ('askSize', 1300), ('volume', 24175560), ('fiftyTwoWeekHigh', 349.67), ('fromCurrency', None), ('fiveYearAvgDividendYield', 1.32), ('fiftyTwoWeekLow', 238.07), ('bid', 315.03), ('tradeable', False), ('dividendYield', 0.008), ('bidSize', 1000), ('dayHigh', 315.1), ('regularMarketPrice', 314.97), ('preMarketPrice', 310.25), ('logo_url', 'https://logo.clearbit.com/microsoft.com'), ('trailingPegRatio', 2.1587)])"
            ]
          },
          "metadata": {},
          "execution_count": 13
        }
      ]
    },
    {
      "cell_type": "code",
      "source": [
        "stockinfo = msft.info\n",
        "for key, value in stockinfo.items(): \n",
        "  print(key, \":\" , value) "
      ],
      "metadata": {
        "colab": {
          "base_uri": "https://localhost:8080/"
        },
        "id": "BhYIOGBM9qfA",
        "outputId": "3ee3f736-bd65-4da6-8267-7914cf0b3e04"
      },
      "execution_count": 17,
      "outputs": [
        {
          "output_type": "stream",
          "name": "stdout",
          "text": [
            "zip : 98052-6399\n",
            "sector : Technology\n",
            "fullTimeEmployees : 181000\n",
            "longBusinessSummary : Microsoft Corporation develops, licenses, and supports software, services, devices, and solutions worldwide. Its Productivity and Business Processes segment offers Office, Exchange, SharePoint, Microsoft Teams, Office 365 Security and Compliance, and Skype for Business, as well as related Client Access Licenses (CAL); Skype, Outlook.com, OneDrive, and LinkedIn; and Dynamics 365, a set of cloud-based and on-premises business solutions for organizations and enterprise divisions. Its Intelligent Cloud segment licenses SQL, Windows Servers, Visual Studio, System Center, and related CALs; GitHub that provides a collaboration platform and code hosting service for developers; and Azure, a cloud platform. It also offers support services and Microsoft consulting services to assist customers in developing, deploying, and managing Microsoft server and desktop solutions; and training and certification on Microsoft products. Its More Personal Computing segment provides Windows original equipment manufacturer (OEM) licensing and other non-volume licensing of the Windows operating system; Windows Commercial, such as volume licensing of the Windows operating system, Windows cloud services, and other Windows commercial offerings; patent licensing; Windows Internet of Things; and MSN advertising. It also offers Surface, PC accessories, PCs, tablets, gaming and entertainment consoles, and other devices; Gaming, including Xbox hardware, and Xbox content and services; video games and third-party video game royalties; and Search, including Bing and Microsoft advertising. It sells its products through OEMs, distributors, and resellers; and directly through digital marketplaces, online stores, and retail stores. It has collaborations with Dynatrace, Inc., Morgan Stanley, Micro Focus, WPP plc, ACI Worldwide, Inc., and iCIMS, Inc., as well as strategic relationships with Avaya Holdings Corp. and wejo Limited. Microsoft Corporation was founded in 1975 and is based in Redmond, Washington.\n",
            "city : Redmond\n",
            "phone : 425 882 8080\n",
            "state : WA\n",
            "country : United States\n",
            "companyOfficers : []\n",
            "website : https://www.microsoft.com\n",
            "maxAge : 1\n",
            "address1 : One Microsoft Way\n",
            "industry : Software—Infrastructure\n",
            "ebitdaMargins : 0.49123\n",
            "profitMargins : 0.38498002\n",
            "grossMargins : 0.68825996\n",
            "operatingCashflow : 83909001216\n",
            "revenueGrowth : 0.201\n",
            "operatingMargins : 0.42523998\n",
            "ebitda : 90829996032\n",
            "targetLowPrice : 306.55\n",
            "recommendationKey : buy\n",
            "grossProfits : 115856000000\n",
            "freeCashflow : 46479876096\n",
            "targetMedianPrice : 370\n",
            "currentPrice : 314.97\n",
            "earningsGrowth : 0.222\n",
            "currentRatio : 2.247\n",
            "returnOnAssets : 0.15248999\n",
            "numberOfAnalystOpinions : 45\n",
            "targetMeanPrice : 370.69\n",
            "debtToEquity : 50.217\n",
            "returnOnEquity : 0.49051\n",
            "targetHighPrice : 425\n",
            "totalCash : 125348003840\n",
            "totalDebt : 80353001472\n",
            "totalRevenue : 184902991872\n",
            "totalCashPerShare : 16.72\n",
            "financialCurrency : USD\n",
            "revenuePerShare : 24.585\n",
            "quickRatio : 2.05\n",
            "recommendationMean : 1.7\n",
            "exchange : NMS\n",
            "shortName : Microsoft Corporation\n",
            "longName : Microsoft Corporation\n",
            "exchangeTimezoneName : America/New_York\n",
            "exchangeTimezoneShortName : EDT\n",
            "isEsgPopulated : False\n",
            "gmtOffSetMilliseconds : -14400000\n",
            "quoteType : EQUITY\n",
            "symbol : MSFT\n",
            "messageBoardId : finmb_21835\n",
            "market : us_market\n",
            "annualHoldingsTurnover : None\n",
            "enterpriseToRevenue : 12.302\n",
            "beta3Year : None\n",
            "enterpriseToEbitda : 25.043\n",
            "52WeekChange : 0.24230134\n",
            "morningStarRiskRating : None\n",
            "forwardEps : 10.74\n",
            "revenueQuarterlyGrowth : None\n",
            "sharesOutstanding : 7496869888\n",
            "fundInceptionDate : None\n",
            "annualReportExpenseRatio : None\n",
            "totalAssets : None\n",
            "bookValue : 21.335\n",
            "sharesShort : 36442967\n",
            "sharesPercentSharesOut : 0.0049\n",
            "fundFamily : None\n",
            "lastFiscalYearEnd : 1625011200\n",
            "heldPercentInstitutions : 0.71876997\n",
            "netIncomeToCommon : 71184998400\n",
            "trailingEps : 9.389\n",
            "lastDividendValue : 0.62\n",
            "SandP52WeekChange : 0.11475241\n",
            "priceToBook : 14.763066\n",
            "heldPercentInsiders : 0.00059\n",
            "nextFiscalYearEnd : 1688083200\n",
            "yield : None\n",
            "mostRecentQuarter : 1640908800\n",
            "shortRatio : 1.04\n",
            "sharesShortPreviousMonthDate : 1644883200\n",
            "floatShares : 7489894342\n",
            "beta : 0.910925\n",
            "enterpriseValue : 2274685353984\n",
            "priceHint : 2\n",
            "threeYearAverageReturn : None\n",
            "lastSplitDate : 1045526400\n",
            "lastSplitFactor : 2:1\n",
            "legalType : None\n",
            "lastDividendDate : 1652832000\n",
            "morningStarOverallRating : None\n",
            "earningsQuarterlyGrowth : 0.214\n",
            "priceToSalesTrailing12Months : 12.770421\n",
            "dateShortInterest : 1647302400\n",
            "pegRatio : 1.9\n",
            "ytdReturn : None\n",
            "forwardPE : 29.326817\n",
            "lastCapGain : None\n",
            "shortPercentOfFloat : 0.0049\n",
            "sharesShortPriorMonth : 35348757\n",
            "impliedSharesOutstanding : 0\n",
            "category : None\n",
            "fiveYearAverageReturn : None\n",
            "previousClose : 309.42\n",
            "regularMarketOpen : 310.09\n",
            "twoHundredDayAverage : 303.641\n",
            "trailingAnnualDividendYield : 0.007627173\n",
            "payoutRatio : 0.2449\n",
            "volume24Hr : None\n",
            "regularMarketDayHigh : 315.1\n",
            "navPrice : None\n",
            "averageDailyVolume10Day : 27735970\n",
            "regularMarketPreviousClose : 309.42\n",
            "fiftyDayAverage : 297.684\n",
            "trailingAnnualDividendRate : 2.36\n",
            "open : 310.09\n",
            "toCurrency : None\n",
            "averageVolume10days : 27735970\n",
            "expireDate : None\n",
            "algorithm : None\n",
            "dividendRate : 2.48\n",
            "exDividendDate : 1652832000\n",
            "circulatingSupply : None\n",
            "startDate : None\n",
            "regularMarketDayLow : 309.72\n",
            "currency : USD\n",
            "trailingPE : 33.546703\n",
            "regularMarketVolume : 24175560\n",
            "lastMarket : None\n",
            "maxSupply : None\n",
            "openInterest : None\n",
            "marketCap : 2361289080832\n",
            "volumeAllCurrencies : None\n",
            "strikePrice : None\n",
            "averageVolume : 38431636\n",
            "dayLow : 309.72\n",
            "ask : 315.37\n",
            "askSize : 1300\n",
            "volume : 24175560\n",
            "fiftyTwoWeekHigh : 349.67\n",
            "fromCurrency : None\n",
            "fiveYearAvgDividendYield : 1.32\n",
            "fiftyTwoWeekLow : 238.07\n",
            "bid : 315.03\n",
            "tradeable : False\n",
            "dividendYield : 0.008\n",
            "bidSize : 1000\n",
            "dayHigh : 315.1\n",
            "regularMarketPrice : 314.97\n",
            "preMarketPrice : 310.25\n",
            "logo_url : https://logo.clearbit.com/microsoft.com\n",
            "trailingPegRatio : 2.1587\n"
          ]
        }
      ]
    },
    {
      "cell_type": "code",
      "source": [
        "print('averageDailyVolume10Day = %i' % msft.info['averageDailyVolume10Day'])  "
      ],
      "metadata": {
        "colab": {
          "base_uri": "https://localhost:8080/"
        },
        "id": "VAT5WlPF_Gxc",
        "outputId": "b25d66e7-4f80-42a0-aa86-46e4475a7a80"
      },
      "execution_count": 23,
      "outputs": [
        {
          "output_type": "stream",
          "name": "stdout",
          "text": [
            "averageDailyVolume10Day = 27735970\n"
          ]
        }
      ]
    },
    {
      "cell_type": "markdown",
      "source": [
        ""
      ],
      "metadata": {
        "id": "gdTRifmn_Gai"
      }
    },
    {
      "cell_type": "code",
      "source": [
        "print(msft.info.keys)"
      ],
      "metadata": {
        "colab": {
          "base_uri": "https://localhost:8080/"
        },
        "id": "QCOKrK6A9nTx",
        "outputId": "0bd83143-0ed1-4241-e088-c853706f0280"
      },
      "execution_count": 25,
      "outputs": [
        {
          "output_type": "stream",
          "name": "stdout",
          "text": [
            "<built-in method keys of dict object at 0x7f9575feec80>\n"
          ]
        }
      ]
    },
    {
      "cell_type": "code",
      "source": [
        "print(msft.dividends)"
      ],
      "metadata": {
        "colab": {
          "base_uri": "https://localhost:8080/"
        },
        "id": "1tYkJrlb_0mu",
        "outputId": "6a1466f8-98ff-4c11-e61c-53d1ec4892b6"
      },
      "execution_count": 27,
      "outputs": [
        {
          "output_type": "stream",
          "name": "stdout",
          "text": [
            "Date\n",
            "2003-02-19    0.08\n",
            "2003-10-15    0.16\n",
            "2004-08-23    0.08\n",
            "2004-11-15    3.00\n",
            "2005-02-15    0.08\n",
            "              ... \n",
            "2021-02-17    0.56\n",
            "2021-05-19    0.56\n",
            "2021-08-18    0.56\n",
            "2021-11-17    0.62\n",
            "2022-02-16    0.62\n",
            "Name: Dividends, Length: 73, dtype: float64\n"
          ]
        }
      ]
    },
    {
      "cell_type": "code",
      "source": [
        "fig, ax = plt.subplots()\n",
        "ax.plot(msft.dividends)"
      ],
      "metadata": {
        "colab": {
          "base_uri": "https://localhost:8080/",
          "height": 283
        },
        "id": "AvbPGpCJAACe",
        "outputId": "89491751-31cf-4ae8-c803-1208167b9d79"
      },
      "execution_count": 29,
      "outputs": [
        {
          "output_type": "execute_result",
          "data": {
            "text/plain": [
              "[<matplotlib.lines.Line2D at 0x7f95737c2910>]"
            ]
          },
          "metadata": {},
          "execution_count": 29
        },
        {
          "output_type": "display_data",
          "data": {
            "text/plain": [
              "<Figure size 432x288 with 1 Axes>"
            ],
            "image/png": "[encoded data removed]"
          },
          "metadata": {
            "needs_background": "light"
          }
        }
      ]
    },
    {
      "cell_type": "code",
      "source": [
        "print(msft.major_holders)"
      ],
      "metadata": {
        "colab": {
          "base_uri": "https://localhost:8080/"
        },
        "id": "pXNtGpnBAePe",
        "outputId": "226d2779-f339-4ca9-ff0f-76a53b82e1d4"
      },
      "execution_count": 30,
      "outputs": [
        {
          "output_type": "stream",
          "name": "stdout",
          "text": [
            "        0                                      1\n",
            "0   0.06%        % of Shares Held by All Insider\n",
            "1  71.88%       % of Shares Held by Institutions\n",
            "2  71.92%        % of Float Held by Institutions\n",
            "3    5837  Number of Institutions Holding Shares\n"
          ]
        }
      ]
    },
    {
      "cell_type": "code",
      "source": [
        "print(msft.institutional_holders)"
      ],
      "metadata": {
        "colab": {
          "base_uri": "https://localhost:8080/"
        },
        "id": "i2jGumqcAlGz",
        "outputId": "97749d00-cbad-4573-c497-3b63e44dcac6"
      },
      "execution_count": 31,
      "outputs": [
        {
          "output_type": "stream",
          "name": "stdout",
          "text": [
            "                              Holder     Shares Date Reported   % Out  \\\n",
            "0         Vanguard Group, Inc. (The)  615950062    2021-12-30  0.0822   \n",
            "1                     Blackrock Inc.  519035634    2021-12-30  0.0692   \n",
            "2           State Street Corporation  302541869    2021-12-30  0.0404   \n",
            "3                           FMR, LLC  215377233    2021-12-30  0.0287   \n",
            "4      Price (T.Rowe) Associates Inc  204196901    2021-12-30  0.0272   \n",
            "5      Geode Capital Management, LLC  129107118    2021-12-30  0.0172   \n",
            "6            Capital World Investors  107717797    2021-12-30  0.0144   \n",
            "7  Capital Research Global Investors   92868182    2021-12-30  0.0124   \n",
            "8    Capital International Investors   90985531    2021-12-30  0.0121   \n",
            "9         Northern Trust Corporation   88410999    2021-12-30  0.0118   \n",
            "\n",
            "          Value  \n",
            "0  207156324851  \n",
            "1  174562064426  \n",
            "2  101750881382  \n",
            "3   72435671002  \n",
            "4   68675501744  \n",
            "5   43421305925  \n",
            "6   36227649487  \n",
            "7   31233426970  \n",
            "8   30600253785  \n",
            "9   29734387183  \n"
          ]
        }
      ]
    },
    {
      "cell_type": "code",
      "source": [
        "import pandas as pd"
      ],
      "metadata": {
        "id": "a6xaLJOr9VQz"
      },
      "execution_count": 32,
      "outputs": []
    },
    {
      "cell_type": "code",
      "source": [
        "type(msft.dividends)"
      ],
      "metadata": {
        "colab": {
          "base_uri": "https://localhost:8080/"
        },
        "id": "jUCGk9vwBKRH",
        "outputId": "18752b0d-fdc4-42d9-fde3-e967dad3b5f7"
      },
      "execution_count": 34,
      "outputs": [
        {
          "output_type": "execute_result",
          "data": {
            "text/plain": [
              "pandas.core.series.Series"
            ]
          },
          "metadata": {},
          "execution_count": 34
        }
      ]
    },
    {
      "cell_type": "code",
      "source": [
        "print(type(msft.dividends))"
      ],
      "metadata": {
        "colab": {
          "base_uri": "https://localhost:8080/"
        },
        "id": "be5D104nBBwm",
        "outputId": "b12cc316-d05c-41c2-ca14-aa91cfec0154"
      },
      "execution_count": 33,
      "outputs": [
        {
          "output_type": "stream",
          "name": "stdout",
          "text": [
            "<class 'pandas.core.series.Series'>\n"
          ]
        }
      ]
    },
    {
      "cell_type": "code",
      "source": [
        "df = msft.dividends "
      ],
      "metadata": {
        "id": "Ssckt3iyBNYE"
      },
      "execution_count": 35,
      "outputs": []
    },
    {
      "cell_type": "code",
      "source": [
        "df"
      ],
      "metadata": {
        "colab": {
          "base_uri": "https://localhost:8080/"
        },
        "id": "MsvkMvkOBTJE",
        "outputId": "bb709661-bded-4d31-f6fa-bf4bda3ab383"
      },
      "execution_count": 40,
      "outputs": [
        {
          "output_type": "execute_result",
          "data": {
            "text/plain": [
              "Date\n",
              "2003-02-19    0.08\n",
              "2003-10-15    0.16\n",
              "2004-08-23    0.08\n",
              "2004-11-15    3.00\n",
              "2005-02-15    0.08\n",
              "              ... \n",
              "2021-02-17    0.56\n",
              "2021-05-19    0.56\n",
              "2021-08-18    0.56\n",
              "2021-11-17    0.62\n",
              "2022-02-16    0.62\n",
              "Name: Dividends, Length: 73, dtype: float64"
            ]
          },
          "metadata": {},
          "execution_count": 40
        }
      ]
    },
    {
      "cell_type": "code",
      "source": [
        "df.plot()"
      ],
      "metadata": {
        "colab": {
          "base_uri": "https://localhost:8080/",
          "height": 287
        },
        "id": "X4Wr1AK5BXBQ",
        "outputId": "54f91597-3038-4be6-e333-af7561fd21bc"
      },
      "execution_count": 37,
      "outputs": [
        {
          "output_type": "execute_result",
          "data": {
            "text/plain": [
              "<matplotlib.axes._subplots.AxesSubplot at 0x7f9573619250>"
            ]
          },
          "metadata": {},
          "execution_count": 37
        },
        {
          "output_type": "display_data",
          "data": {
            "text/plain": [
              "<Figure size 432x288 with 1 Axes>"
            ],
            "image/png": "[encoded data removed]"
          },
          "metadata": {
            "needs_background": "light"
          }
        }
      ]
    },
    {
      "cell_type": "code",
      "source": [
        "import datetime as dt"
      ],
      "metadata": {
        "id": "tLzhh8l6ELBO"
      },
      "execution_count": 49,
      "outputs": []
    },
    {
      "cell_type": "code",
      "source": [
        "data = df.resample('Y').sum()\n",
        "len(data) \n",
        "data = data.reset_index()\n",
        "data\n",
        "data['Year'] = data['Date'].dt.year"
      ],
      "metadata": {
        "id": "XyAKZup1DHMu"
      },
      "execution_count": 67,
      "outputs": []
    },
    {
      "cell_type": "code",
      "source": [
        "data"
      ],
      "metadata": {
        "colab": {
          "base_uri": "https://localhost:8080/",
          "height": 676
        },
        "id": "DHpvV7JTE4pd",
        "outputId": "02e003d0-e243-497f-8f83-fd59ddf320b2"
      },
      "execution_count": 68,
      "outputs": [
        {
          "output_type": "execute_result",
          "data": {
            "text/plain": [
              "         Date  Dividends  Year\n",
              "0  2003-12-31       0.24  2003\n",
              "1  2004-12-31       3.08  2004\n",
              "2  2005-12-31       0.32  2005\n",
              "3  2006-12-31       0.37  2006\n",
              "4  2007-12-31       0.41  2007\n",
              "5  2008-12-31       0.46  2008\n",
              "6  2009-12-31       0.52  2009\n",
              "7  2010-12-31       0.55  2010\n",
              "8  2011-12-31       0.68  2011\n",
              "9  2012-12-31       0.83  2012\n",
              "10 2013-12-31       0.97  2013\n",
              "11 2014-12-31       1.15  2014\n",
              "12 2015-12-31       1.29  2015\n",
              "13 2016-12-31       1.47  2016\n",
              "14 2017-12-31       1.59  2017\n",
              "15 2018-12-31       1.72  2018\n",
              "16 2019-12-31       1.89  2019\n",
              "17 2020-12-31       2.09  2020\n",
              "18 2021-12-31       2.30  2021\n",
              "19 2022-12-31       0.62  2022"
            ],
            "text/html": [
              "\n",
              "  <div id=\"df-9a0ee24f-3f9c-4c1c-a424-10d9419e70d4\">\n",
              "    <div class=\"colab-df-container\">\n",
              "      <div>\n",
              "<style scoped>\n",
              "    .dataframe tbody tr th:only-of-type {\n",
              "        vertical-align: middle;\n",
              "    }\n",
              "\n",
              "    .dataframe tbody tr th {\n",
              "        vertical-align: top;\n",
              "    }\n",
              "\n",
              "    .dataframe thead th {\n",
              "        text-align: right;\n",
              "    }\n",
              "</style>\n",
              "<table border=\"1\" class=\"dataframe\">\n",
              "  <thead>\n",
              "    <tr style=\"text-align: right;\">\n",
              "      <th></th>\n",
              "      <th>Date</th>\n",
              "      <th>Dividends</th>\n",
              "      <th>Year</th>\n",
              "    </tr>\n",
              "  </thead>\n",
              "  <tbody>\n",
              "    <tr>\n",
              "      <th>0</th>\n",
              "      <td>2003-12-31</td>\n",
              "      <td>0.24</td>\n",
              "      <td>2003</td>\n",
              "    </tr>\n",
              "    <tr>\n",
              "      <th>1</th>\n",
              "      <td>2004-12-31</td>\n",
              "      <td>3.08</td>\n",
              "      <td>2004</td>\n",
              "    </tr>\n",
              "    <tr>\n",
              "      <th>2</th>\n",
              "      <td>2005-12-31</td>\n",
              "      <td>0.32</td>\n",
              "      <td>2005</td>\n",
              "    </tr>\n",
              "    <tr>\n",
              "      <th>3</th>\n",
              "      <td>2006-12-31</td>\n",
              "      <td>0.37</td>\n",
              "      <td>2006</td>\n",
              "    </tr>\n",
              "    <tr>\n",
              "      <th>4</th>\n",
              "      <td>2007-12-31</td>\n",
              "      <td>0.41</td>\n",
              "      <td>2007</td>\n",
              "    </tr>\n",
              "    <tr>\n",
              "      <th>5</th>\n",
              "      <td>2008-12-31</td>\n",
              "      <td>0.46</td>\n",
              "      <td>2008</td>\n",
              "    </tr>\n",
              "    <tr>\n",
              "      <th>6</th>\n",
              "      <td>2009-12-31</td>\n",
              "      <td>0.52</td>\n",
              "      <td>2009</td>\n",
              "    </tr>\n",
              "    <tr>\n",
              "      <th>7</th>\n",
              "      <td>2010-12-31</td>\n",
              "      <td>0.55</td>\n",
              "      <td>2010</td>\n",
              "    </tr>\n",
              "    <tr>\n",
              "      <th>8</th>\n",
              "      <td>2011-12-31</td>\n",
              "      <td>0.68</td>\n",
              "      <td>2011</td>\n",
              "    </tr>\n",
              "    <tr>\n",
              "      <th>9</th>\n",
              "      <td>2012-12-31</td>\n",
              "      <td>0.83</td>\n",
              "      <td>2012</td>\n",
              "    </tr>\n",
              "    <tr>\n",
              "      <th>10</th>\n",
              "      <td>2013-12-31</td>\n",
              "      <td>0.97</td>\n",
              "      <td>2013</td>\n",
              "    </tr>\n",
              "    <tr>\n",
              "      <th>11</th>\n",
              "      <td>2014-12-31</td>\n",
              "      <td>1.15</td>\n",
              "      <td>2014</td>\n",
              "    </tr>\n",
              "    <tr>\n",
              "      <th>12</th>\n",
              "      <td>2015-12-31</td>\n",
              "      <td>1.29</td>\n",
              "      <td>2015</td>\n",
              "    </tr>\n",
              "    <tr>\n",
              "      <th>13</th>\n",
              "      <td>2016-12-31</td>\n",
              "      <td>1.47</td>\n",
              "      <td>2016</td>\n",
              "    </tr>\n",
              "    <tr>\n",
              "      <th>14</th>\n",
              "      <td>2017-12-31</td>\n",
              "      <td>1.59</td>\n",
              "      <td>2017</td>\n",
              "    </tr>\n",
              "    <tr>\n",
              "      <th>15</th>\n",
              "      <td>2018-12-31</td>\n",
              "      <td>1.72</td>\n",
              "      <td>2018</td>\n",
              "    </tr>\n",
              "    <tr>\n",
              "      <th>16</th>\n",
              "      <td>2019-12-31</td>\n",
              "      <td>1.89</td>\n",
              "      <td>2019</td>\n",
              "    </tr>\n",
              "    <tr>\n",
              "      <th>17</th>\n",
              "      <td>2020-12-31</td>\n",
              "      <td>2.09</td>\n",
              "      <td>2020</td>\n",
              "    </tr>\n",
              "    <tr>\n",
              "      <th>18</th>\n",
              "      <td>2021-12-31</td>\n",
              "      <td>2.30</td>\n",
              "      <td>2021</td>\n",
              "    </tr>\n",
              "    <tr>\n",
              "      <th>19</th>\n",
              "      <td>2022-12-31</td>\n",
              "      <td>0.62</td>\n",
              "      <td>2022</td>\n",
              "    </tr>\n",
              "  </tbody>\n",
              "</table>\n",
              "</div>\n",
              "      <button class=\"colab-df-convert\" onclick=\"convertToInteractive('df-9a0ee24f-3f9c-4c1c-a424-10d9419e70d4')\"\n",
              "              title=\"Convert this dataframe to an interactive table.\"\n",
              "              style=\"display:none;\">\n",
              "        \n",
              "  <svg xmlns=\"http://www.w3.org/2000/svg\" height=\"24px\"viewBox=\"0 0 24 24\"\n",
              "       width=\"24px\">\n",
              "    <path d=\"M0 0h24v24H0V0z\" fill=\"none\"/>\n",
              "    <path d=\"M18.56 5.44l.94 2.06.94-2.06 2.06-.94-2.06-.94-.94-2.06-.94 2.06-2.06.94zm-11 1L8.5 8.5l.94-2.06 2.06-.94-2.06-.94L8.5 2.5l-.94 2.06-2.06.94zm10 10l.94 2.06.94-2.06 2.06-.94-2.06-.94-.94-2.06-.94 2.06-2.06.94z\"/><path d=\"M17.41 7.96l-1.37-1.37c-.4-.4-.92-.59-1.43-.59-.52 0-1.04.2-1.43.59L10.3 9.45l-7.72 7.72c-.78.78-.78 2.05 0 2.83L4 21.41c.39.39.9.59 1.41.59.51 0 1.02-.2 1.41-.59l7.78-7.78 2.81-2.81c.8-.78.8-2.07 0-2.86zM5.41 20L4 18.59l7.72-7.72 1.47 1.35L5.41 20z\"/>\n",
              "  </svg>\n",
              "      </button>\n",
              "      \n",
              "  <style>\n",
              "    .colab-df-container {\n",
              "      display:flex;\n",
              "      flex-wrap:wrap;\n",
              "      gap: 12px;\n",
              "    }\n",
              "\n",
              "    .colab-df-convert {\n",
              "      background-color: #E8F0FE;\n",
              "      border: none;\n",
              "      border-radius: 50%;\n",
              "      cursor: pointer;\n",
              "      display: none;\n",
              "      fill: #1967D2;\n",
              "      height: 32px;\n",
              "      padding: 0 0 0 0;\n",
              "      width: 32px;\n",
              "    }\n",
              "\n",
              "    .colab-df-convert:hover {\n",
              "      background-color: #E2EBFA;\n",
              "      box-shadow: 0px 1px 2px rgba(60, 64, 67, 0.3), 0px 1px 3px 1px rgba(60, 64, 67, 0.15);\n",
              "      fill: #174EA6;\n",
              "    }\n",
              "\n",
              "    [theme=dark] .colab-df-convert {\n",
              "      background-color: #3B4455;\n",
              "      fill: #D2E3FC;\n",
              "    }\n",
              "\n",
              "    [theme=dark] .colab-df-convert:hover {\n",
              "      background-color: #434B5C;\n",
              "      box-shadow: 0px 1px 3px 1px rgba(0, 0, 0, 0.15);\n",
              "      filter: drop-shadow(0px 1px 2px rgba(0, 0, 0, 0.3));\n",
              "      fill: #FFFFFF;\n",
              "    }\n",
              "  </style>\n",
              "\n",
              "      <script>\n",
              "        const buttonEl =\n",
              "          document.querySelector('#df-9a0ee24f-3f9c-4c1c-a424-10d9419e70d4 button.colab-df-convert');\n",
              "        buttonEl.style.display =\n",
              "          google.colab.kernel.accessAllowed ? 'block' : 'none';\n",
              "\n",
              "        async function convertToInteractive(key) {\n",
              "          const element = document.querySelector('#df-9a0ee24f-3f9c-4c1c-a424-10d9419e70d4');\n",
              "          const dataTable =\n",
              "            await google.colab.kernel.invokeFunction('convertToInteractive',\n",
              "                                                     [key], {});\n",
              "          if (!dataTable) return;\n",
              "\n",
              "          const docLinkHtml = 'Like what you see? Visit the ' +\n",
              "            '<a target=\"_blank\" href=https://colab.research.google.com/notebooks/data_table.ipynb>data table notebook</a>'\n",
              "            + ' to learn more about interactive tables.';\n",
              "          element.innerHTML = '';\n",
              "          dataTable['output_type'] = 'display_data';\n",
              "          await google.colab.output.renderOutput(dataTable, element);\n",
              "          const docLink = document.createElement('div');\n",
              "          docLink.innerHTML = docLinkHtml;\n",
              "          element.appendChild(docLink);\n",
              "        }\n",
              "      </script>\n",
              "    </div>\n",
              "  </div>\n",
              "  "
            ]
          },
          "metadata": {},
          "execution_count": 68
        }
      ]
    },
    {
      "cell_type": "code",
      "source": [
        "import seaborn as sns\n",
        "fig, ax = plt.subplots(figsize=(12,4))\n",
        "sns.barplot(x='Year',y='Dividends', data=data) "
      ],
      "metadata": {
        "colab": {
          "base_uri": "https://localhost:8080/",
          "height": 297
        },
        "id": "OyTCM5OUDqNI",
        "outputId": "3e1142af-c895-4c08-fe16-ed826bca6dec"
      },
      "execution_count": 71,
      "outputs": [
        {
          "output_type": "execute_result",
          "data": {
            "text/plain": [
              "<matplotlib.axes._subplots.AxesSubplot at 0x7f9563e5b950>"
            ]
          },
          "metadata": {},
          "execution_count": 71
        },
        {
          "output_type": "display_data",
          "data": {
            "text/plain": [
              "<Figure size 864x288 with 1 Axes>"
            ],
            "image/png": "[encoded data removed]"
          },
          "metadata": {
            "needs_background": "light"
          }
        }
      ]
    },
    {
      "cell_type": "markdown",
      "source": [
        "https://www.youtube.com/watch?v=9nB__kJio-M"
      ],
      "metadata": {
        "id": "hhcyGxL2JRgu"
      }
    },
    {
      "cell_type": "code",
      "execution_count": 1,
      "metadata": {
        "colab": {
          "base_uri": "https://localhost:8080/",
          "height": 381
        },
        "id": "c8vDI2Xu85hq",
        "outputId": "24c2d277-2115-4730-fb5b-45f89727430e"
      },
      "outputs": [
        {
          "output_type": "error",
          "ename": "ModuleNotFoundError",
          "evalue": "ignored",
          "traceback": [
            "\u001b[0;31m---------------------------------------------------------------------------\u001b[0m",
            "\u001b[0;31mModuleNotFoundError\u001b[0m                       Traceback (most recent call last)",
            "\u001b[0;32m<ipython-input-1-bdd247c62ff5>\u001b[0m in \u001b[0;36m<module>\u001b[0;34m()\u001b[0m\n\u001b[0;32m----> 1\u001b[0;31m \u001b[0;32mimport\u001b[0m \u001b[0myfinance\u001b[0m \u001b[0;32mas\u001b[0m \u001b[0myf\u001b[0m\u001b[0;34m\u001b[0m\u001b[0;34m\u001b[0m\u001b[0m\n\u001b[0m\u001b[1;32m      2\u001b[0m \u001b[0;34m\u001b[0m\u001b[0m\n\u001b[1;32m      3\u001b[0m \u001b[0mmsft\u001b[0m \u001b[0;34m=\u001b[0m \u001b[0myf\u001b[0m\u001b[0;34m.\u001b[0m\u001b[0mTicker\u001b[0m\u001b[0;34m(\u001b[0m\u001b[0;34m\"MSFT\"\u001b[0m\u001b[0;34m)\u001b[0m\u001b[0;34m\u001b[0m\u001b[0;34m\u001b[0m\u001b[0m\n\u001b[1;32m      4\u001b[0m \u001b[0;34m\u001b[0m\u001b[0m\n\u001b[1;32m      5\u001b[0m \u001b[0;31m# get stock info\u001b[0m\u001b[0;34m\u001b[0m\u001b[0;34m\u001b[0m\u001b[0;34m\u001b[0m\u001b[0m\n",
            "\u001b[0;31mModuleNotFoundError\u001b[0m: No module named 'yfinance'",
            "",
            "\u001b[0;31m---------------------------------------------------------------------------\u001b[0;32m\nNOTE: If your import is failing due to a missing package, you can\nmanually install dependencies using either !pip or !apt.\n\nTo view examples of installing some common dependencies, click the\n\"Open Examples\" button below.\n\u001b[0;31m---------------------------------------------------------------------------\u001b[0m\n"
          ],
          "errorDetails": {
            "actions": [
              {
                "action": "open_url",
                "actionText": "Open Examples",
                "url": "/notebooks/snippets/importing_libraries.ipynb"
              }
            ]
          }
        }
      ],
      "source": [
        "\n",
        "# get stock info\n",
        "msft.info\n",
        "\n",
        "# get historical market data\n",
        "hist = msft.history(period=\"max\")\n",
        "\n",
        "# show actions (dividends, splits)\n",
        "msft.actions\n",
        "\n",
        "# show dividends\n",
        "msft.dividends\n",
        "\n",
        "# show splits\n",
        "msft.splits\n",
        "\n",
        "# show financials\n",
        "msft.financials\n",
        "msft.quarterly_financials\n",
        "\n",
        "# show major holders\n",
        "msft.major_holders\n",
        "\n",
        "# show institutional holders\n",
        "msft.institutional_holders\n",
        "\n",
        "# show balance sheet\n",
        "msft.balance_sheet\n",
        "msft.quarterly_balance_sheet\n",
        "\n",
        "# show cashflow\n",
        "msft.cashflow\n",
        "msft.quarterly_cashflow\n",
        "\n",
        "# show earnings\n",
        "msft.earnings\n",
        "msft.quarterly_earnings\n",
        "\n",
        "# show sustainability\n",
        "msft.sustainability\n",
        "\n",
        "# show analysts recommendations\n",
        "msft.recommendations\n",
        "\n",
        "# show next event (earnings, etc)\n",
        "msft.calendar\n",
        "\n",
        "# show ISIN code - *experimental*\n",
        "# ISIN = International Securities Identification Number\n",
        "msft.isin\n",
        "\n",
        "# show options expirations\n",
        "msft.options\n",
        "\n",
        "# show news\n",
        "msft.news\n",
        "\n",
        "# get option chain for specific expiration\n",
        "opt = msft.option_chain('YYYY-MM-DD')\n",
        "# data available via: opt.calls, opt.puts"
      ]
    }
  ]
}